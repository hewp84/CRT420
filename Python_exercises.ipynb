{
  "nbformat": 4,
  "nbformat_minor": 0,
  "metadata": {
    "colab": {
      "provenance": []
    },
    "kernelspec": {
      "name": "python3",
      "display_name": "Python 3"
    },
    "language_info": {
      "name": "python"
    }
  },
  "cells": [
    {
      "cell_type": "markdown",
      "source": [
        "# Solve the following exercises using Python.\n",
        "\n",
        "Concepts such as conditional, iterative loop structures and lists appear as tools to solve such exercises."
      ],
      "metadata": {
        "id": "c0HxJZArxuts"
      }
    },
    {
      "cell_type": "markdown",
      "source": [
        "1. Write a program that takes a number as input and prints \"Fizz\" if the number is divisible by 3, \"Buzz\" if divisible by 5, and \"FizzBuzz\" if divisible by both."
      ],
      "metadata": {
        "id": "1-XDeD4Mx_EY"
      }
    },
    {
      "cell_type": "code",
      "execution_count": null,
      "metadata": {
        "id": "gXMr5HymxtZ9"
      },
      "outputs": [],
      "source": []
    },
    {
      "cell_type": "markdown",
      "source": [
        "2. Write a program that takes in a number and prints whether it is positive, negative, or zero."
      ],
      "metadata": {
        "id": "qUZX4KYuyEZq"
      }
    },
    {
      "cell_type": "code",
      "source": [],
      "metadata": {
        "id": "iDtYbLJUyGbf"
      },
      "execution_count": null,
      "outputs": []
    },
    {
      "cell_type": "markdown",
      "source": [
        "3. Write a program that takes in three numbers and prints the largest of all."
      ],
      "metadata": {
        "id": "n-u4kCZeyG3Q"
      }
    },
    {
      "cell_type": "code",
      "source": [],
      "metadata": {
        "id": "lnN1zyAtyPhp"
      },
      "execution_count": null,
      "outputs": []
    },
    {
      "cell_type": "markdown",
      "source": [
        "4. Write a program that takes in a number and prints all the numbers from 1 to that number."
      ],
      "metadata": {
        "id": "FHb5WEJ_yQS0"
      }
    },
    {
      "cell_type": "code",
      "source": [],
      "metadata": {
        "id": "O-_G18VaySG_"
      },
      "execution_count": null,
      "outputs": []
    },
    {
      "cell_type": "markdown",
      "source": [
        "5. Write a program that takes in a string and prints it in reverse order."
      ],
      "metadata": {
        "id": "kt8WlRkGySnD"
      }
    },
    {
      "cell_type": "code",
      "source": [],
      "metadata": {
        "id": "6YK3XXhyyUhm"
      },
      "execution_count": null,
      "outputs": []
    },
    {
      "cell_type": "markdown",
      "source": [
        "6. Write a program with a loop that iterates from 1 to 100 and prints \"Fizz\" if the number is divisible by 3, \"Buzz\" if divisible by 5, and the number itself if neither."
      ],
      "metadata": {
        "id": "28yG7HX5yXjK"
      }
    },
    {
      "cell_type": "code",
      "source": [],
      "metadata": {
        "id": "jNlAWwx5yYe3"
      },
      "execution_count": null,
      "outputs": []
    },
    {
      "cell_type": "markdown",
      "source": [
        "7. Write a program that takes in a number and prints the Fibonacci sequence up to that number."
      ],
      "metadata": {
        "id": "3T6XIzStyaGi"
      }
    },
    {
      "cell_type": "code",
      "source": [],
      "metadata": {
        "id": "F5yJ-t2KyatI"
      },
      "execution_count": null,
      "outputs": []
    },
    {
      "cell_type": "markdown",
      "source": [
        "8. Write a program that takes in a string and counts how many vowels are in the string."
      ],
      "metadata": {
        "id": "-f5noMapyb9D"
      }
    },
    {
      "cell_type": "code",
      "source": [],
      "metadata": {
        "id": "nRDwg9MtyccP"
      },
      "execution_count": null,
      "outputs": []
    },
    {
      "cell_type": "markdown",
      "source": [
        "9. Write a guessing game program where the user has to guess a random number between 1 and 100 in 10 turns."
      ],
      "metadata": {
        "id": "HvuiqJczydv3"
      }
    },
    {
      "cell_type": "code",
      "source": [],
      "metadata": {
        "id": "Hzb2kV5fye6v"
      },
      "execution_count": null,
      "outputs": []
    },
    {
      "cell_type": "markdown",
      "source": [
        "10. Write a program that takes in a list of numbers and prints the largest and smallest numbers in the list."
      ],
      "metadata": {
        "id": "K7bUwHKRygRe"
      }
    },
    {
      "cell_type": "code",
      "source": [],
      "metadata": {
        "id": "KGYeLwRrygvA"
      },
      "execution_count": null,
      "outputs": []
    }
  ]
}