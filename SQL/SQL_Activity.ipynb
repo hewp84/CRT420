{
 "cells": [
  {
   "cell_type": "markdown",
   "id": "6a58cb01-9c7f-41c9-818a-1cdcd06afd02",
   "metadata": {},
   "source": [
    "# SQL Activity\n",
    "\n",
    "#### Context:\n",
    "You are hired as a database designer to create a comprehensive database system for OCU's campus library. The library needs to efficiently manage information about books, authors, students, faculty, borrowing, and returning of books. The library serves multiple departments (schools) within the university and needs to keep track of various activities such as book availability, overdue fines, and transaction details.\n",
    "\n",
    "#### Problem:\n",
    "Design a relational database for the library. Identify entities and their attributes, define tables, normalize these tables, and create the database in MySQL.\n",
    "\n",
    "#### Tasks:\n",
    "\n",
    "**1. Identify Entities and Attributes:**\n",
    "\n",
    "Identify the main entities involved in the library system (e.g., books, authors, students, faculty, borrowing, returning).\n",
    "Determine the attributes for each entity (e.g., book ID, title, author name, student ID, name, faculty ID, department, etc.).\n",
    "\n",
    "**2. Define Tables:**\n",
    "\n",
    "Create a list of tables based on the identified entities and their attributes.\n",
    "Determine the primary keys for each table.\n",
    "\n",
    "**3. Normalize Tables:**\n",
    "\n",
    "Normalize the tables to eliminate redundancy and improve data integrity.\n",
    "Identify relationships between different entities and create foreign keys where necessary.\n",
    "\n",
    "**4. Create the Database in MySQL:**\n",
    "\n",
    "Using MySQL syntax, create a new database for the library system.\n",
    "Create tables based on the normalized design, specifying data types, primary keys, and foreign keys.\n",
    "Insert sample data into the tables to demonstrate the relationships between entities (e.g., books, authors, students, faculty, borrowing records).\n",
    "\n",
    "**5. Write SQL Queries:**\n",
    "\n",
    "Write SQL queries to retrieve information from the database, such as:\n",
    "List all books available in the library.\n",
    "Find the names of students who have borrowed a specific book.\n",
    "Calculate the total fines collected by the library.\n",
    "List all overdue books."
   ]
  },
  {
   "cell_type": "code",
   "execution_count": null,
   "id": "b495a5fb-ddb7-4fc1-a390-4f2a8f35b1ac",
   "metadata": {},
   "outputs": [],
   "source": []
  }
 ],
 "metadata": {
  "kernelspec": {
   "display_name": "Python 3 (ipykernel)",
   "language": "python",
   "name": "python3"
  },
  "language_info": {
   "codemirror_mode": {
    "name": "ipython",
    "version": 3
   },
   "file_extension": ".py",
   "mimetype": "text/x-python",
   "name": "python",
   "nbconvert_exporter": "python",
   "pygments_lexer": "ipython3",
   "version": "3.11.3"
  }
 },
 "nbformat": 4,
 "nbformat_minor": 5
}
