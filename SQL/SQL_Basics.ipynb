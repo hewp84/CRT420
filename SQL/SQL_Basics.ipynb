{
 "cells": [
  {
   "cell_type": "markdown",
   "id": "ee56a5c7-3239-4b7b-b136-f32062c648c1",
   "metadata": {},
   "source": [
    "# SQL Basics\n",
    "\n",
    "## 1. SQL Data Types\n",
    "\n",
    "#### Numeric Types:\n",
    "* INTEGER: Used for whole numbers.\n",
    "* SMALLINT: Small integer values.\n",
    "* BIGINT: Large integer values.\n",
    "* NUMERIC(precision, scale): Exact numeric value with specified precision and scale.\n",
    "* DECIMAL(precision, scale): Exact numeric value similar to NUMERIC.\n",
    "\n",
    "#### Character and String Types:\n",
    "* CHAR(n): Fixed-length character string.\n",
    "* VARCHAR(n): Variable-length character string with a maximum length of 'n'.\n",
    "* TEXT: Variable-length character string for large text data.\n",
    "\n",
    "#### Date and Time Types:\n",
    "* DATE: Date values in the format 'YYYY-MM-DD'.\n",
    "* TIME: Time values in the format 'HH:MM:SS'.\n",
    "* TIMESTAMP: Date and time values in the format 'YYYY-MM-DD HH:MM:SS'.\n",
    "* INTERVAL: Time intervals.\n",
    "\n",
    "#### Boolean Type:\n",
    "* BOOLEAN: Represents true or false values.\n",
    "\n",
    "#### Other Types:\n",
    "* BLOB: Binary Large Object for storing binary data.\n",
    "* JSON: JSON data."
   ]
  },
  {
   "cell_type": "markdown",
   "id": "eb9f6780-af48-4e56-8f8f-4b7e5bd6a0a3",
   "metadata": {},
   "source": [
    "## 2. Creating Tables\n",
    "The CREATE TABLE statement is fundamental in SQL. It allows you to design the structure of your database tables, defining columns, their data types, and various constraints.\n",
    "\n",
    "Example:"
   ]
  },
  {
   "cell_type": "code",
   "execution_count": null,
   "id": "65f497c0-c47f-41e9-b40f-ce8a4c54a72b",
   "metadata": {},
   "outputs": [],
   "source": [
    "CREATE TABLE Students (\n",
    "    StudentID INTEGER PRIMARY KEY,\n",
    "    FirstName VARCHAR(50),\n",
    "    LastName VARCHAR(50),\n",
    "    BirthDate DATE,\n",
    "    IsEnrolled BOOLEAN DEFAULT true\n",
    ");"
   ]
  },
  {
   "cell_type": "markdown",
   "id": "4b957df9-eab3-4dc3-8ecc-4bf84f6525c4",
   "metadata": {},
   "source": [
    "In this example, StudentID is the primary key, and IsEnrolled is a boolean column with a default value of true.\n",
    "\n",
    "## 3. Updating Tables:\n",
    "To modify existing tables, you use the ALTER TABLE statement. For instance, adding a new column to an existing table:\n",
    "\n"
   ]
  },
  {
   "cell_type": "code",
   "execution_count": null,
   "id": "1bc71612-120f-400b-a1a1-33722445b218",
   "metadata": {},
   "outputs": [],
   "source": [
    "ALTER TABLE Students\n",
    "    ADD COLUMN GPA FLOAT;"
   ]
  },
  {
   "cell_type": "markdown",
   "id": "3cb86dfc-696a-4b66-9b83-50c16f3dba90",
   "metadata": {},
   "source": [
    "## 4. Dropping Tables:\n",
    "The DROP TABLE statement removes an entire table along with its data:\n"
   ]
  },
  {
   "cell_type": "code",
   "execution_count": null,
   "id": "37d532e6-13d8-476f-ad76-b02e9b9eb27a",
   "metadata": {},
   "outputs": [],
   "source": [
    "DROP TABLE Students;"
   ]
  },
  {
   "cell_type": "markdown",
   "id": "0bf1d0ae-4e6c-4f29-b242-26474db4a653",
   "metadata": {},
   "source": [
    "## 5. Column Options:\n",
    "\n",
    "Primary Key: Uniquely identifies each student in the table.\n"
   ]
  },
  {
   "cell_type": "code",
   "execution_count": null,
   "id": "0c1b8c1f-9369-41df-a4cc-53b43e84a40a",
   "metadata": {},
   "outputs": [],
   "source": [
    "CREATE TABLE Students (\n",
    "    StudentID INTEGER PRIMARY KEY,\n",
    "    ...\n",
    ");"
   ]
  },
  {
   "cell_type": "markdown",
   "id": "0ba0e838-129e-4401-b3e0-ccfc31545326",
   "metadata": {},
   "source": [
    "NOT NULL: Ensures that certain columns must have a value, disallowing NULLs.\n"
   ]
  },
  {
   "cell_type": "code",
   "execution_count": null,
   "id": "977df1aa-c872-483d-8fa9-3959afd342f6",
   "metadata": {},
   "outputs": [],
   "source": [
    "CREATE TABLE Students (\n",
    "    StudentID INTEGER NOT NULL,\n",
    "    ...\n",
    ");"
   ]
  },
  {
   "cell_type": "markdown",
   "id": "c359e850-956e-42ba-af4e-748943a95be9",
   "metadata": {},
   "source": [
    "UNIQUE: Ensures all values in a column are unique.\n"
   ]
  },
  {
   "cell_type": "code",
   "execution_count": null,
   "id": "0b30ae41-b2ea-4bb3-bf13-e4d1818eff93",
   "metadata": {},
   "outputs": [],
   "source": [
    "CREATE TABLE Students (\n",
    "    StudentID INTEGER UNIQUE,\n",
    "    ...\n",
    ");"
   ]
  },
  {
   "cell_type": "markdown",
   "id": "2d1dffac-2b3d-4d13-b4f0-1fce1201fed5",
   "metadata": {
    "tags": []
   },
   "source": [
    "DEFAULT: Provides a default value for a column.\n"
   ]
  },
  {
   "cell_type": "code",
   "execution_count": null,
   "id": "0cba02ca-7502-415b-8680-054f0351d5de",
   "metadata": {},
   "outputs": [],
   "source": [
    "CREATE TABLE Students (\n",
    "    ...\n",
    "    IsEnrolled BOOLEAN DEFAULT true,\n",
    "    ...\n",
    ");"
   ]
  },
  {
   "cell_type": "markdown",
   "id": "a92e57a8-976e-45c4-ac5a-431c2e5d7895",
   "metadata": {
    "tags": []
   },
   "source": [
    "FOREIGN KEY: Establishes a link between tables, for example, linking students to their courses.\n"
   ]
  },
  {
   "cell_type": "code",
   "execution_count": null,
   "id": "2ac58369-cd74-4ba8-a863-024d8626064f",
   "metadata": {
    "tags": []
   },
   "outputs": [],
   "source": [
    "CREATE TABLE Enrollments (\n",
    "    EnrollmentID INTEGER PRIMARY KEY,\n",
    "    StudentID INTEGER,\n",
    "    CourseID INTEGER,\n",
    "    FOREIGN KEY (StudentID) REFERENCES Students(StudentID),\n",
    "    FOREIGN KEY (CourseID) REFERENCES Courses(CourseID)\n",
    ");"
   ]
  },
  {
   "cell_type": "markdown",
   "id": "495dbefb-93b0-480a-9eeb-2d98db962d88",
   "metadata": {},
   "source": [
    "## 6. CRUD Operations in SQL\n",
    "\n",
    "CRUD stands for Create, Read, Update, and Delete. These operations are fundamental in database management and are used to manipulate data in a database.\n",
    "\n",
    "### Create (INSERT)\n",
    "\n",
    "The **Create** operation involves adding new data into a database.\n"
   ]
  },
  {
   "cell_type": "code",
   "execution_count": null,
   "id": "b032f94e-706f-4077-8d4b-304a7e9c560d",
   "metadata": {},
   "outputs": [],
   "source": [
    "#Syntax\n",
    "INSERT INTO table_name (column1, column2, column3, ...)\n",
    "VALUES (value1, value2, value3, ...);\n",
    "\n",
    "##Example:\n",
    "INSERT INTO users (name, age) VALUES ('Alice', 30);\n"
   ]
  },
  {
   "cell_type": "markdown",
   "id": "1434c232-3893-47a5-a6be-b2935f429159",
   "metadata": {},
   "source": [
    "### Read (SELECT)\n",
    "The Read operation retrieves data from a database.\n"
   ]
  },
  {
   "cell_type": "code",
   "execution_count": null,
   "id": "025e024d-a5e5-49f3-aaef-766b6a3c2c64",
   "metadata": {},
   "outputs": [],
   "source": [
    "#Syntax\n",
    "SELECT column1, column2, ...\n",
    "FROM table_name\n",
    "WHERE condition;\n",
    "\n",
    "#Example:\n",
    "SELECT * FROM users WHERE name = 'Alice';\n"
   ]
  },
  {
   "cell_type": "markdown",
   "id": "e3b999b4-21b0-4596-830f-036f0fa87cd3",
   "metadata": {},
   "source": [
    "### Update (UPDATE)\n",
    "The Update operation modifies existing data in a database.\n",
    "\n"
   ]
  },
  {
   "cell_type": "code",
   "execution_count": null,
   "id": "d8725015-6e57-4b8a-8d3e-bd8def885d23",
   "metadata": {},
   "outputs": [],
   "source": [
    "#Syntax\n",
    "UPDATE table_name\n",
    "SET column1 = value1, column2 = value2, ...\n",
    "WHERE condition;\n",
    "\n",
    "#Example:\n",
    "UPDATE users SET age = 31 WHERE name = 'Alice';\n"
   ]
  },
  {
   "cell_type": "markdown",
   "id": "586f4f95-db02-4029-8891-1ced24bbba4f",
   "metadata": {},
   "source": [
    "### Delete (DELETE)\n",
    "The Delete operation removes data from a database.\n"
   ]
  },
  {
   "cell_type": "code",
   "execution_count": null,
   "id": "fe486319-627d-47e5-a135-2adb22910a97",
   "metadata": {},
   "outputs": [],
   "source": [
    "#Syntax\n",
    "DELETE FROM table_name WHERE condition;\n",
    "\n",
    "#Example:\n",
    "DELETE FROM users WHERE name = 'Alice';"
   ]
  },
  {
   "cell_type": "markdown",
   "id": "00dbdf7c-5b43-47ee-bf9e-de73649c29dc",
   "metadata": {},
   "source": [
    "## 7. Table Relationships\n",
    "\n",
    "### 1. One-to-One Relationship:\n",
    "\n",
    "In a one-to-one relationship, each record in the first table is associated with only one record in the second table, and vice versa.\n",
    "\n",
    "One-to-one relationships are used to connect two entities where each instance in the relationship corresponds to exactly one instance in the related table. This type of relationship is uncommon in most database designs and is typically used when specific attributes of an entity need to be separated into a distinct table.\n",
    "\n",
    "**Example:**\n",
    "\n",
    "Tables:\n",
    "\n",
    "Staff\n",
    "* StaffID (Primary Key)\n",
    "* Name\n",
    "* Position\n",
    "\n",
    "IDCard\n",
    "* IDCardID (Primary Key)\n",
    "* StaffID (Foreign Key referencing Staff table)\n",
    "* CardNumber\n",
    "\n",
    "In this scenario, each staff member in the \"Staff\" table has a unique ID represented by \"StaffID\". Their corresponding ID card information, such as \"CardNumber\", is stored in the \"IDCard\" table. The \"StaffID\" in the \"IDCard\" table establishes the one-to-one relationship, ensuring that each staff member has only one ID card.\n",
    "\n",
    "### 2. One-to-Many Relationship:\n",
    "\n",
    "In a one-to-many relationship, each record in the first table can have multiple related records in the second table, but each record in the second table corresponds to only one record in the first table.\n",
    "\n",
    "One-to-many relationships are the most common type of relationship in relational databases. In this relationship, one entity (the \"one\" side) can be associated with multiple instances of another entity (the \"many\" side), but each instance of the latter can be linked to only one instance of the former.\n",
    "\n",
    "**Example:**\n",
    "\n",
    "Tables:\n",
    "\n",
    "Departments\n",
    "* DepartmentID (Primary Key)\n",
    "* DepartmentName\n",
    "\n",
    "Professors\n",
    "* ProfessorID (Primary Key)\n",
    "* Name\n",
    "* DepartmentID (Foreign Key referencing Departments table)\n",
    "* Subject\n",
    "\n",
    "In this example, the \"Departments\" table stores information about different college departments, with each department having a unique \"DepartmentID\". The \"Professors\" table contains details about professors. The \"DepartmentID\" in the \"Professors\" table establishes the one-to-many relationship, indicating that each department can have multiple professors, but each professor belongs to only one department.\n",
    "\n",
    "### 3. Many-to-Many Relationship:\n",
    "\n",
    "In a many-to-many relationship, each record in both tables can have multiple related records in the other table.\n",
    "\n",
    "Many-to-many relationships are used to model complex interactions where multiple instances of one entity are related to multiple instances of another entity. To represent this relationship in a relational database, a junction table (also called an associative or link table) is introduced.\n",
    "\n",
    "**Example:**\n",
    "\n",
    "Tables:\n",
    "\n",
    "Students\n",
    "* StudentID (Primary Key)\n",
    "* Name\n",
    "\n",
    "Courses\n",
    "* CourseID (Primary Key)\n",
    "* CourseName\n",
    "\n",
    "StudentCourses (Junction Table)\n",
    "* StudentCoursesID (Primary Key)\n",
    "* StudentID (Foreign Key referencing Students table)\n",
    "* CourseID (Foreign Key referencing Courses table)\n",
    "\n",
    "In this example, the \"Students\" table stores student information, the \"Courses\" table stores course details, and the \"StudentCourses\" table acts as a junction table. The \"StudentID\" and \"CourseID\" columns in the \"StudentCourses\" table establish many-to-many relationships. This setup allows multiple students to be enrolled in multiple courses, creating a comprehensive representation of the relationships between students and courses."
   ]
  },
  {
   "cell_type": "code",
   "execution_count": null,
   "id": "1ef25651-2bb1-4a2e-8bae-9fb9dc2537dd",
   "metadata": {},
   "outputs": [],
   "source": []
  }
 ],
 "metadata": {
  "kernelspec": {
   "display_name": "Python 3 (ipykernel)",
   "language": "python",
   "name": "python3"
  },
  "language_info": {
   "codemirror_mode": {
    "name": "ipython",
    "version": 3
   },
   "file_extension": ".py",
   "mimetype": "text/x-python",
   "name": "python",
   "nbconvert_exporter": "python",
   "pygments_lexer": "ipython3",
   "version": "3.11.3"
  }
 },
 "nbformat": 4,
 "nbformat_minor": 5
}
