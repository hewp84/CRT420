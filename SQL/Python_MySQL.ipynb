{
 "cells": [
  {
   "cell_type": "markdown",
   "id": "8cea79f2-b3ef-4523-8e15-65331c20911f",
   "metadata": {},
   "source": [
    "# Python with MySQL"
   ]
  },
  {
   "cell_type": "markdown",
   "id": "ad934a4d-e87e-4acb-aa8f-6807a922084b",
   "metadata": {},
   "source": [
    "To connect to a MySQL database using Python and Jupyter Notebooks, you can use the mysql-connector-python package, which is a MySQL driver for Python. Here are the steps to connect to a MySQL database using Python and Jupyter Notebooks:\n",
    "\n",
    "#### Step 1: Install the MySQL Connector Python Package\n",
    "If you haven't already installed the mysql-connector-python package, you can install it using pip in your Jupyter Notebook. Run the following command in a code cell:"
   ]
  },
  {
   "cell_type": "code",
   "execution_count": null,
   "id": "ae914d8d-896c-4828-897b-8e16ade1c4e2",
   "metadata": {},
   "outputs": [],
   "source": [
    "!pip install mysql-connector-python\n"
   ]
  },
  {
   "cell_type": "markdown",
   "id": "8a9cf365-8f6b-4dd1-8f39-3cc1c40c8603",
   "metadata": {},
   "source": [
    "#### Step 2: Import the Required Libraries\n",
    "In your Jupyter Notebook, start by importing the necessary libraries. You'll need `mysql.connector` to establish a connection to the MySQL database."
   ]
  },
  {
   "cell_type": "code",
   "execution_count": null,
   "id": "a1888a67-9518-493b-a069-95f252f3e7a9",
   "metadata": {},
   "outputs": [],
   "source": [
    "import mysql.connector"
   ]
  },
  {
   "cell_type": "markdown",
   "id": "17ce1c80-4ec3-4dc2-8ab4-3dd4c23f4908",
   "metadata": {},
   "source": [
    "#### Step 3: Establish a Connection to the MySQL Database\n",
    "Next, establish a connection to your MySQL database by providing the host, username, password, and database name as arguments to the `mysql.connector.connect()` function."
   ]
  },
  {
   "cell_type": "code",
   "execution_count": null,
   "id": "ae01321d-53ae-4846-a12e-57f2aca7e83d",
   "metadata": {},
   "outputs": [],
   "source": [
    "# Replace 'your_host', 'your_username', 'your_password', and 'your_database' with your actual MySQL credentials\n",
    "host = 'your_host'\n",
    "#port = 3306\n",
    "username = 'your_username'\n",
    "password = 'your_password'\n",
    "database = 'your_database'\n",
    "\n",
    "# Establish a connection to the MySQL database\n",
    "connection = mysql.connector.connect(\n",
    "    host=host,\n",
    "    #port=port,\n",
    "    user=username,\n",
    "    password=password,\n",
    "    database=database\n",
    ")\n",
    "\n",
    "# Create a cursor object using the cursor() method\n",
    "cursor = connection.cursor()\n",
    "\n",
    "# Now, you have a working connection and cursor to interact with the MySQL database\n"
   ]
  },
  {
   "cell_type": "markdown",
   "id": "98878d12-944b-47a2-8c95-eefc0d746dbc",
   "metadata": {},
   "source": [
    "#### Step 4: Execute SQL Queries\n",
    "You can execute SQL queries using the `execute()` method of the cursor object. For example, to retrieve data from a table, you can do the following:"
   ]
  },
  {
   "cell_type": "code",
   "execution_count": null,
   "id": "0daace57-0fec-4d27-a740-d36a42f6991b",
   "metadata": {},
   "outputs": [],
   "source": [
    "# Example: Execute a SELECT query\n",
    "query = \"SELECT * FROM your_table_name\"\n",
    "\n",
    "# Execute the query\n",
    "cursor.execute(query)\n",
    "\n",
    "# Fetch all the rows from the query result\n",
    "result = cursor.fetchall()\n",
    "\n",
    "# Print the result\n",
    "for row in result:\n",
    "    print(row)\n"
   ]
  },
  {
   "cell_type": "markdown",
   "id": "951ef642-158a-4f76-8c7a-51f966458620",
   "metadata": {},
   "source": [
    "#### Step 5: Close the Connection\n",
    "After you have executed your queries and retrieved the necessary data, it's good practice to close the cursor and the connection."
   ]
  },
  {
   "cell_type": "code",
   "execution_count": null,
   "id": "10fda4ea-4674-4976-9b59-4ee62daca5b1",
   "metadata": {},
   "outputs": [],
   "source": [
    "# Close the cursor and connection\n",
    "cursor.close()\n",
    "connection.close()"
   ]
  },
  {
   "cell_type": "markdown",
   "id": "97c64d1b-fb6b-42f8-a360-8005dc6cf915",
   "metadata": {},
   "source": [
    "## Python and CRUD operations with MySQL\n",
    "\n",
    "Performing `INSERT`, `UPDATE`, and `DELETE` operations in a MySQL database using Python in Jupyter Notebooks involves similar steps to establishing a connection. First, ensure you've installed the `mysql-connector-python` package as mentioned in the previous responses. Then, follow these steps for each operation:\n",
    "\n",
    "#### 1. INSERT Operation:\n",
    "To insert data into a MySQL table, you can use an `INSERT` SQL statement. Here's an example of how you can perform an `INSERT` operation using Python in Jupyter Notebook:"
   ]
  },
  {
   "cell_type": "code",
   "execution_count": null,
   "id": "43e573df-dfa3-457d-af86-18de1f025c83",
   "metadata": {},
   "outputs": [],
   "source": [
    "import mysql.connector\n",
    "\n",
    "# Establish a connection to the MySQL database (similar to the connection step mentioned in the previous responses)\n",
    "connection = mysql.connector.connect(\n",
    "    host='your_host',\n",
    "    user='your_username',\n",
    "    password='your_password',\n",
    "    database='your_database'\n",
    ")\n",
    "\n",
    "# Create a cursor object\n",
    "cursor = connection.cursor()\n",
    "\n",
    "# Example INSERT query\n",
    "insert_query = \"INSERT INTO your_table_name (column1, column2, column3) VALUES (%s, %s, %s)\"\n",
    "\n",
    "# Data to be inserted\n",
    "data = ('value1', 'value2', 'value3')\n",
    "\n",
    "# Execute the INSERT query\n",
    "cursor.execute(insert_query, data)\n",
    "\n",
    "# Commit the transaction\n",
    "connection.commit()\n",
    "\n",
    "# Close the cursor and connection\n",
    "cursor.close()\n",
    "connection.close()\n"
   ]
  },
  {
   "cell_type": "markdown",
   "id": "a5c18d23-9e3c-4f6e-9a0e-2d847a8d553b",
   "metadata": {},
   "source": [
    "Replace `'your_table_name'` with your actual table name and specify the column names and values you want to insert.\n",
    "\n",
    "#### 2. UPDATE Operation:\n",
    "To update existing records in a MySQL table, you can use an `UPDATE` SQL statement. Here's how you can perform an `UPDATE` operation using Python:"
   ]
  },
  {
   "cell_type": "code",
   "execution_count": null,
   "id": "27744d10-5895-4613-8ddb-212f7dc2894a",
   "metadata": {},
   "outputs": [],
   "source": [
    "import mysql.connector\n",
    "\n",
    "# Establish a connection to the MySQL database (similar to the connection step mentioned in the previous responses)\n",
    "connection = mysql.connector.connect(\n",
    "    host='your_host',\n",
    "    user='your_username',\n",
    "    password='your_password',\n",
    "    database='your_database'\n",
    ")\n",
    "\n",
    "# Create a cursor object\n",
    "cursor = connection.cursor()\n",
    "\n",
    "# Example UPDATE query\n",
    "update_query = \"UPDATE your_table_name SET column1 = %s WHERE column2 = %s\"\n",
    "\n",
    "# New data and condition\n",
    "new_value = 'new_value'\n",
    "condition_value = 'condition_value'\n",
    "\n",
    "# Execute the UPDATE query\n",
    "cursor.execute(update_query, (new_value, condition_value))\n",
    "\n",
    "# Commit the transaction\n",
    "connection.commit()\n",
    "\n",
    "# Close the cursor and connection\n",
    "cursor.close()\n",
    "connection.close()\n"
   ]
  },
  {
   "cell_type": "markdown",
   "id": "49d33b10-391d-4899-aa88-ea385bbad135",
   "metadata": {},
   "source": [
    "Replace `'your_table_name'` with your actual table name and specify the column names, new values, and the condition for the update.\n",
    "\n",
    "#### 3. DELETE Operation:\n",
    "To delete records from a MySQL table, you can use a `DELETE` SQL statement. Here's how you can perform a `DELETE` operation using Python:"
   ]
  },
  {
   "cell_type": "code",
   "execution_count": null,
   "id": "fd3f92a9-aac6-48c1-bdfd-ce873107ee89",
   "metadata": {},
   "outputs": [],
   "source": [
    "import mysql.connector\n",
    "\n",
    "# Establish a connection to the MySQL database (similar to the connection step mentioned in the previous responses)\n",
    "connection = mysql.connector.connect(\n",
    "    host='your_host',\n",
    "    user='your_username',\n",
    "    password='your_password',\n",
    "    database='your_database'\n",
    ")\n",
    "\n",
    "# Create a cursor object\n",
    "cursor = connection.cursor()\n",
    "\n",
    "# Example DELETE query\n",
    "delete_query = \"DELETE FROM your_table_name WHERE column1 = %s\"\n",
    "\n",
    "# Value to be deleted\n",
    "value_to_delete = 'value_to_delete'\n",
    "\n",
    "# Execute the DELETE query\n",
    "cursor.execute(delete_query, (value_to_delete,))\n",
    "\n",
    "# Commit the transaction\n",
    "connection.commit()\n",
    "\n",
    "# Close the cursor and connection\n",
    "cursor.close()\n",
    "connection.close()\n"
   ]
  },
  {
   "cell_type": "markdown",
   "id": "4c5e8c0d-3c8b-4194-aa77-6e9e86282d26",
   "metadata": {},
   "source": [
    "Replace `'your_table_name'` with your actual table name and specify the column name and value for the deletion condition."
   ]
  },
  {
   "cell_type": "markdown",
   "id": "540884ce-30b7-47a7-a0b5-fbd3bc5663dc",
   "metadata": {},
   "source": [
    "## PANDAS and MySQL\n",
    "\n",
    "### Displaying a Query result as a PANDAS DataFrame"
   ]
  },
  {
   "cell_type": "code",
   "execution_count": null,
   "id": "bb37b3e2-8910-4554-a637-6866bfc28b4c",
   "metadata": {},
   "outputs": [],
   "source": [
    "import pandas as pd\n",
    "\n",
    "# Assuming 'result' contains the fetched data from MySQL\n",
    "\n",
    "# Convert the result into a Pandas DataFrame\n",
    "df = pd.DataFrame(result, columns=[\"column1\", \"column2\", \"column3\", ...])\n",
    "\n",
    "# Replace \"column1\", \"column2\", \"column3\", ... with the actual column names from your database table\n",
    "df"
   ]
  },
  {
   "cell_type": "markdown",
   "id": "4bead2e6-6a11-404f-89ee-967a0041c22c",
   "metadata": {},
   "source": [
    "### Inserting a DataFrame to a MySQL Table\n",
    "\n",
    "You can insert a Pandas DataFrame into a MySQL table using the `to_sql()` method provided by Pandas. "
   ]
  },
  {
   "cell_type": "code",
   "execution_count": null,
   "id": "1a1de90a-0cf6-4743-b323-76ca3c6c133c",
   "metadata": {},
   "outputs": [],
   "source": [
    "import pandas as pd\n",
    "import mysql.connector\n",
    "\n",
    "# Establish a connection to the MySQL database\n",
    "connection = mysql.connector.connect(\n",
    "    host='your_host',\n",
    "    user='your_username',\n",
    "    password='your_password',\n",
    "    database='your_database'\n",
    ")\n",
    "\n",
    "# Assuming df is your Pandas DataFrame containing the data\n",
    "# Example DataFrame creation\n",
    "data = {\n",
    "    'column1': ['value1', 'value2', 'value3'],\n",
    "    'column2': ['value4', 'value5', 'value6']\n",
    "}\n",
    "\n",
    "df = pd.DataFrame(data)\n",
    "\n",
    "\n",
    "# Specify the table name\n",
    "table_name = 'your_table_name'\n",
    "\n",
    "# Insert the DataFrame into the MySQL table\n",
    "df.to_sql(name=table_name, con=connection, if_exists='append', index=False)\n",
    "\n",
    "# Close the connection\n",
    "connection.close()\n"
   ]
  },
  {
   "cell_type": "markdown",
   "id": "4cc3a4c2-92d3-4609-8288-f2c9691543c6",
   "metadata": {},
   "source": [
    "In the `to_sql()` method:\n",
    "\n",
    "* `name` is the name of the MySQL table you want to insert the data into.\n",
    "* `con` is the database connection.\n",
    "* `if_exists='append'` specifies that the data should be appended to the existing table. You can also use `'replace'` to replace the table if it already exists.\n",
    "* `index=False` ensures that the DataFrame index is not inserted as a separate column in the MySQL table."
   ]
  },
  {
   "cell_type": "code",
   "execution_count": null,
   "id": "ebd57a10-ec12-4d1f-9fa2-3606ff9aa879",
   "metadata": {},
   "outputs": [],
   "source": []
  }
 ],
 "metadata": {
  "kernelspec": {
   "display_name": "Python 3 (ipykernel)",
   "language": "python",
   "name": "python3"
  },
  "language_info": {
   "codemirror_mode": {
    "name": "ipython",
    "version": 3
   },
   "file_extension": ".py",
   "mimetype": "text/x-python",
   "name": "python",
   "nbconvert_exporter": "python",
   "pygments_lexer": "ipython3",
   "version": "3.11.3"
  }
 },
 "nbformat": 4,
 "nbformat_minor": 5
}
