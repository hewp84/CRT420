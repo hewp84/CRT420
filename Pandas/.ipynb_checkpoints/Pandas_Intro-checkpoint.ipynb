{
 "cells": [
  {
   "cell_type": "markdown",
   "id": "f015468f-962c-4985-8ec7-5222c84e8292",
   "metadata": {},
   "source": [
    "<a href=\"https://colab.research.google.com/github/hewp84/CRT420/blob/main/Pandas_Intro.ipynb\" target=\"_parent\"><img src=\"https://colab.research.google.com/assets/colab-badge.svg\" alt=\"Open In Colab\"/></a>"
   ]
  },
  {
   "cell_type": "markdown",
   "id": "85eb27ac-1c63-4743-97fc-98474d05adcb",
   "metadata": {},
   "source": [
    "# PANDAS\n",
    "## Introduction\n",
    "Pandas is a popular Python library that provides powerful data structures and functions designed specifically for data analysis workflows. The name \"Pandas\" actually comes from the term \"panel data\", representing multidimensional data.\n"
   ]
  },
  {
   "cell_type": "markdown",
   "id": "9abc22c2-82e0-45e3-b774-cf53e02c2c6c",
   "metadata": {},
   "source": [
    "## Data Structures\n",
    "\n",
    "The two most important data structures in Pandas are:\n",
    "\n",
    "* Series: A Series is a one-dimensional array-like object that can hold many different data types like integers, strings, booleans, etc. What makes a Series unique is that it has an index which assigns a label to each value. The index makes it easier to access, query, and analyze data in the Series. For example, you can use label-based indexing to slice and dice a Series, similar to how you interact with columns in a spreadsheet.\n",
    "\n",
    "* DataFrame: A DataFrame is a two-dimensional tabular data structure with labeled rows and columns, akin to a spreadsheet, SQL table, or R data frame. It builds on the Series concept by essentially storing a number of Series objects aligned along an index. This enables complex multivariant, relational data analysis. DataFrames have powerful capabilities like easily handling missing data, merging datasets, pivoting data, and more.\n",
    "\n",
    "Pandas combines these versatile data structures with numerous functions and methods designed to make many aspects of the typical data analysis workflow fast, efficient, and productive in Python. It excels at tasks like loading, cleaning, transforming, merging, reshaping, and visualizing data."
   ]
  },
  {
   "cell_type": "markdown",
   "id": "3c17a626-1066-4180-925d-134883a0764e",
   "metadata": {},
   "source": [
    "### Series\n",
    "\n",
    "* A Pandas Series is a one-dimensional array-like data structure that can hold values of different data types such as integers, floats, strings, booleans, etc.\n",
    "* It has an index which labels each value, like columns in a spreadsheet. This makes Series very useful for data analysis in Python.\n",
    "\n",
    "The basic method to create a `Series` is to call:\n",
    "\n",
    "`s = pd.Series(data, index=index)`\n",
    "#### Creating a Series"
   ]
  },
  {
   "cell_type": "code",
   "execution_count": null,
   "id": "5e3ce59a-31f1-4d84-aade-26c4cef47a45",
   "metadata": {
    "tags": []
   },
   "outputs": [],
   "source": [
    "import pandas as pd\n",
    "import numpy as np\n",
    "# Create from list \n",
    "mylist = [1, 2, 3, 4]\n",
    "myseries1 = pd.Series(mylist)\n",
    "\n",
    "# Create from numpy array\n",
    "import numpy as np\n",
    "arr = np.array([1, 2, 3, 4])\n",
    "myseries2 = pd.Series(arr) \n",
    "\n",
    "# Create from dictionary \n",
    "mydict = {'a': 1, 'b': 2, 'c': 3} \n",
    "myseries3 = pd.Series(mydict)\n",
    "\n",
    "# Create from scalar value \n",
    "myseries4 = pd.Series(5, index=[0, 1, 2, 3])\n",
    "\n",
    "# Create from a 1D numpy array\n",
    "mys = pd.Series(np.array([1,2,3,4]))"
   ]
  },
  {
   "cell_type": "code",
   "execution_count": null,
   "id": "130ae20d-739b-4c33-81f2-3a1763eb1dfe",
   "metadata": {
    "tags": []
   },
   "outputs": [],
   "source": [
    "print(myseries1)\n",
    "print(myseries2)\n",
    "print(myseries3)\n",
    "print(myseries4)\n"
   ]
  },
  {
   "cell_type": "markdown",
   "id": "7089edf8-b442-4716-8017-993d781f85e8",
   "metadata": {},
   "source": [
    "#### Series Attributes"
   ]
  },
  {
   "cell_type": "code",
   "execution_count": null,
   "id": "17397dde-f634-4621-85c5-c90f8ab873b8",
   "metadata": {
    "tags": []
   },
   "outputs": [],
   "source": [
    "print(myseries4.values) # The actual data values \n",
    "print(myseries4.index) # The index for each value\n",
    "print(myseries4.dtype) # The data type (int, float, object) \n",
    "print(myseries4.name) # Name of the Series \n",
    "print(myseries4.shape) # Number of elements\n",
    "\n",
    "print(mys.values)"
   ]
  },
  {
   "cell_type": "markdown",
   "id": "75ddab63-91cd-41cf-a076-94039ba113ea",
   "metadata": {},
   "source": [
    "#### Accessing elements"
   ]
  },
  {
   "cell_type": "code",
   "execution_count": null,
   "id": "5b2a4b66-3c5e-49c3-a8c2-d134c556d407",
   "metadata": {
    "tags": []
   },
   "outputs": [],
   "source": [
    "#print(myseries1['a']) \n",
    "print(myseries1[1])\n",
    "print(mys[2])"
   ]
  },
  {
   "cell_type": "markdown",
   "id": "22019a8a-5f4e-4eed-a803-2646974e51e6",
   "metadata": {},
   "source": [
    "#### Operations with Series"
   ]
  },
  {
   "cell_type": "code",
   "execution_count": null,
   "id": "d10a484f-d89b-4c9d-8eb3-9989d6e4110e",
   "metadata": {
    "tags": []
   },
   "outputs": [],
   "source": [
    "doubled = myseries1 * 2 # Arithmetic\n",
    "filtered = myseries1[myseries1 > 2] # Filtering \n",
    "sorted1 = myseries1.sort_values() # Sorting\n",
    "total = myseries1.sum() # Aggregation\n",
    "add_in = mys[1:] + mys[:-1]\n",
    "\n",
    "print(mys)\n",
    "print(add_in)"
   ]
  },
  {
   "cell_type": "markdown",
   "id": "b6ee21c2-062e-4927-b8f7-e43a4669775a",
   "metadata": {},
   "source": [
    "### Dataframes\n",
    "\n",
    "A DataFrame is a 2-dimensional, tabular data structure with labeled rows and columns similar to a spreadsheet. It can be thought of as a collection of Series objects that share an index. DataFrames are versatile for many types of data analysis in Python because they can store mixed data types (numerals, strings, bools) and provide easy access to data via rows and column labels.\n",
    "\n",
    "#### Creating Dataframes\n",
    "\n",
    "Here is one way to reword the explanation of the various inputs accepted by the Pandas DataFrame constructor:\n",
    "\n",
    "The Pandas DataFrame can be created from many different types of data sources:\n",
    "\n",
    "* Dictionaries of 1D ndarrays, lists, dicts, or Series - The keys become the DataFrame column names\n",
    "* 2D NumPy ndarray - Used directly as the DataFrame values\n",
    "* Structured or record ndarray - Used to populate the DataFrame\n",
    "* A single Series object - Treated as a single column in the DataFrame\n",
    "* Another DataFrame - Cloned to make a new DataFrame\n",
    "\n",
    "When creating a DataFrame, you can also optionally specify the index (row labels) and columns (column names) if desired. Providing these arguments will guarantee the resulting DataFrame contains those exact indexes and columns. For example, passing a dictionary of Series plus a pre-defined list of column names will discard any Series not matching those columns.\n",
    "\n",
    "If index and column labels are not provided, Pandas will create them automatically based on the input data. For example, dictionaries of ndarrays/lists will use the dict keys as column names. NumPy arrays will get integer indexes and columns."
   ]
  },
  {
   "cell_type": "code",
   "execution_count": null,
   "id": "d7a2e9f0-db7c-4384-b1c6-10c5cf8453bf",
   "metadata": {
    "tags": []
   },
   "outputs": [],
   "source": [
    "import pandas as pd \n",
    "import numpy as np\n",
    "\n",
    "# From single Series\n",
    "data = pd.Series([1, 2, 3, 4]) \n",
    "df_from_series = pd.DataFrame(data)\n",
    "\n",
    "# From list of dicts\n",
    "data = [{'a': 1, 'b': 2}, {'a': 5, 'b': 10, 'c': 20}]\n",
    "df_from_list = pd.DataFrame(data) \n",
    "\n",
    "# From dict of lists\n",
    "data = {'col1': [1, 2], 'col2': [3, 4]}\n",
    "df_from_dict = pd.DataFrame(data)\n",
    "\n",
    "# From NumPy array\n",
    "data = np.array([[1, 2, 3], [4, 5, 6]])\n",
    "df_from_array = pd.DataFrame(data)\n",
    "\n",
    "# From reading external file\n",
    "df_from_file = pd.read_csv('sample.csv')"
   ]
  },
  {
   "cell_type": "code",
   "execution_count": null,
   "id": "f4b929ad-23fa-45dc-b7bb-53d980b71aae",
   "metadata": {
    "tags": []
   },
   "outputs": [],
   "source": [
    "#Different ways of displaying dataframes\n",
    "df\n",
    "print(df)"
   ]
  },
  {
   "cell_type": "markdown",
   "id": "576adb67-7861-4f2d-b8a0-8573af4a135a",
   "metadata": {},
   "source": [
    "#### Basic Operations with Dataframe columns"
   ]
  },
  {
   "cell_type": "code",
   "execution_count": null,
   "id": "1c50f11c-d97a-4bc3-b822-645cb52dc3e0",
   "metadata": {},
   "outputs": [],
   "source": [
    "#Column selection\n",
    "df[col_name]\n",
    "df[[col1, col2]] \n",
    "df.loc[:, 'col1':'col3']"
   ]
  },
  {
   "cell_type": "code",
   "execution_count": null,
   "id": "7a38a634-ae71-4676-878a-b61f588b7c63",
   "metadata": {
    "tags": []
   },
   "outputs": [],
   "source": [
    "a= df_from_file[['gender','weight']]\n",
    "a\n",
    "b = df_from_file.loc[:, 'age':'gender']\n",
    "b"
   ]
  },
  {
   "cell_type": "markdown",
   "id": "8d75885d-4c7b-4129-a27d-dcaa243fd3ba",
   "metadata": {},
   "source": [
    "##### Copy Column"
   ]
  },
  {
   "cell_type": "code",
   "execution_count": null,
   "id": "555e8bd6-c298-466f-ab53-a798a8244903",
   "metadata": {},
   "outputs": [],
   "source": [
    "df2 = df.copy()\n",
    "df2['col_to_copy'] = df['col_to_copy']\n",
    "#or\n",
    "df['new_col'] = df['col_to_copy']"
   ]
  },
  {
   "cell_type": "code",
   "execution_count": null,
   "id": "83fed68f-2895-4ad2-bc0e-dbc1a5237c86",
   "metadata": {
    "tags": []
   },
   "outputs": [],
   "source": [
    "\n",
    "df = pd.DataFrame({'A': [1, 2], 'B': [3, 4]}) \n",
    "\n",
    "# Copy entire DataFrame first \n",
    "df2 = df.copy()\n",
    "df2['C'] = df['A']  \n",
    "\n",
    "# Copy just one column \n",
    "df['D'] = df['A']\n"
   ]
  },
  {
   "cell_type": "markdown",
   "id": "dca327d4-3b41-4e0a-b541-52523f64b974",
   "metadata": {},
   "source": [
    "##### Column Deletion\n",
    "\n",
    "Use .drop(columns=names, axis=1, inplace=True) to delete columns by name.\n",
    "\n",
    "* columns (str or list) - Column names to delete\n",
    "* axis=1 - Operate on columns\n",
    "* inplace=True - Modify DataFrame in place"
   ]
  },
  {
   "cell_type": "code",
   "execution_count": null,
   "id": "2ea63085-369c-4f37-b86b-2af220f2e768",
   "metadata": {},
   "outputs": [],
   "source": [
    "df.drop(columns='col1', axis=1, inplace=True)"
   ]
  },
  {
   "cell_type": "markdown",
   "id": "e5b07bfc-fa5f-40a4-91d8-d444f37b7357",
   "metadata": {},
   "source": [
    "##### Arithmetic operations with columns\n",
    "\n",
    "The arithmetic operations are applied element-wise between the columns. Any valid Python arithmetic operator can be used.\n",
    "\n",
    "The benefit is these operations are automatically vectorized and scaled across the DataFrame without needing to loop through each element. This provides very fast, expressive arithmetic operations on column data.\n",
    "\n",
    "New columns can also be assigned to the result. The lengths of the columns must match. If they don't, NaN will be introduced as needed."
   ]
  },
  {
   "cell_type": "code",
   "execution_count": null,
   "id": "5b1e0f6f-3510-4b92-b584-2eb26e2d598f",
   "metadata": {
    "tags": []
   },
   "outputs": [],
   "source": [
    "df_from_file['density'] = df_from_file['weight']/df_from_file['height']"
   ]
  },
  {
   "cell_type": "code",
   "execution_count": null,
   "id": "08bbc232-95f8-4140-abdc-28813c6e687e",
   "metadata": {
    "tags": []
   },
   "outputs": [],
   "source": [
    "df_from_file"
   ]
  },
  {
   "cell_type": "code",
   "execution_count": null,
   "id": "81db59ca-4735-4880-a89f-cca48561ab9e",
   "metadata": {},
   "outputs": [],
   "source": []
  }
 ],
 "metadata": {
  "kernelspec": {
   "display_name": "Python 3 (ipykernel)",
   "language": "python",
   "name": "python3"
  },
  "language_info": {
   "codemirror_mode": {
    "name": "ipython",
    "version": 3
   },
   "file_extension": ".py",
   "mimetype": "text/x-python",
   "name": "python",
   "nbconvert_exporter": "python",
   "pygments_lexer": "ipython3",
   "version": "3.11.3"
  }
 },
 "nbformat": 4,
 "nbformat_minor": 5
}
