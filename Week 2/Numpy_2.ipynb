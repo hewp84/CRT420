{
 "cells": [
  {
   "cell_type": "markdown",
   "id": "29bcd5b1-9e12-462e-b29b-26e483cb4d06",
   "metadata": {},
   "source": [
    "<a href=\"https://colab.research.google.com/github/hewp84/CRT420/blob/main/Numpy_2.ipynb\" target=\"_parent\"><img src=\"https://colab.research.google.com/assets/colab-badge.svg\" alt=\"Open In Colab\"/></a>"
   ]
  },
  {
   "cell_type": "markdown",
   "id": "1f8cc2e4-16a8-4f48-9fbb-532daac788e5",
   "metadata": {},
   "source": [
    "# Topic 1: Numpy, part 2"
   ]
  },
  {
   "cell_type": "markdown",
   "id": "fc073cc3-9c7b-4e34-bba8-68f2ce8483e4",
   "metadata": {},
   "source": [
    "## Inputs / Outputs"
   ]
  },
  {
   "cell_type": "code",
   "execution_count": 2,
   "id": "080dac8c-a0bd-4b3f-8145-74fb73666055",
   "metadata": {
    "tags": []
   },
   "outputs": [],
   "source": [
    "import numpy as np"
   ]
  },
  {
   "cell_type": "markdown",
   "id": "c96fe4e2-c8cf-4283-834d-dc98e81efb9e",
   "metadata": {},
   "source": [
    "np.genfromtxt allows loading data from a file into a NumPy array. For example loading from a CSV file:"
   ]
  },
  {
   "cell_type": "code",
   "execution_count": 10,
   "id": "cd89743c-d305-4aaa-b33e-10d1e5e3ceab",
   "metadata": {
    "tags": []
   },
   "outputs": [],
   "source": [
    "data = np.genfromtxt('data_sample.csv', delimiter=',')"
   ]
  },
  {
   "cell_type": "code",
   "execution_count": null,
   "id": "499c86d3-f586-4992-8744-661bcca5f883",
   "metadata": {},
   "outputs": [],
   "source": [
    "data"
   ]
  },
  {
   "cell_type": "markdown",
   "id": "57143948-7abd-4268-b32c-064be94ca894",
   "metadata": {},
   "source": [
    "#### Mostly used key arguments\n",
    "\n",
    "* fname: File path\n",
    "* delimiter: Character separating values\n",
    "* skip_header: Number of rows to skip at top\n",
    "* missing_values: Value indicating missing data\n",
    "* usecols: Columns to read from file\n",
    "* dtype: Data type of array\n",
    "\n",
    "For example, loading specific columns from a CSV with headers:"
   ]
  },
  {
   "cell_type": "code",
   "execution_count": 20,
   "id": "f7d24b4b-e5cc-4422-b11c-07c110c84da9",
   "metadata": {
    "tags": []
   },
   "outputs": [],
   "source": [
    "data = np.genfromtxt('data_sample.csv', delimiter=',', skip_header=1,\n",
    "                     usecols=(0, 2), dtype=float)"
   ]
  },
  {
   "cell_type": "markdown",
   "id": "d13158b9-7f78-4037-b241-ba42e7d4a87f",
   "metadata": {},
   "source": [
    "### Operations with columns\n",
    "\n",
    "* Central Tendency measures\n",
    "* Sorting .sort()\n",
    "* Filtering using boolean masks\n",
    "* Math operations with column arrays"
   ]
  },
  {
   "cell_type": "code",
   "execution_count": 21,
   "id": "5d693e8b-ec6a-48e8-a3fe-e27981ada282",
   "metadata": {
    "tags": []
   },
   "outputs": [],
   "source": [
    "col1 = data[:,1]"
   ]
  },
  {
   "cell_type": "markdown",
   "id": "2869ee75-ef09-479a-9d9b-6e32ededf27b",
   "metadata": {},
   "source": [
    "#### Key arguments\n",
    "\n",
    "* arr: The NumPy array being indexed\n",
    "* start: Starting index for slice\n",
    "    * Integer or None to start from beginning\n",
    "* stop: Ending index for slice\n",
    "    * Integer or None to go to end\n",
    "* step: Step size for slice\n",
    "    * Integer\n",
    "* column_index: Index of column to select\n",
    "    * Integer index or string column name\n",
    "* single_index: Single index for selecting one element\n",
    "    * Integer index"
   ]
  },
  {
   "cell_type": "code",
   "execution_count": null,
   "id": "71950b13-f14c-4f60-8bdc-00c799780967",
   "metadata": {},
   "outputs": [],
   "source": [
    "arr[start:stop:step, column_index] \n",
    "\n",
    "arr[single_index, column_index]"
   ]
  }
 ],
 "metadata": {
  "kernelspec": {
   "display_name": "Python 3 (ipykernel)",
   "language": "python",
   "name": "python3"
  },
  "language_info": {
   "codemirror_mode": {
    "name": "ipython",
    "version": 3
   },
   "file_extension": ".py",
   "mimetype": "text/x-python",
   "name": "python",
   "nbconvert_exporter": "python",
   "pygments_lexer": "ipython3",
   "version": "3.11.3"
  }
 },
 "nbformat": 4,
 "nbformat_minor": 5
}
