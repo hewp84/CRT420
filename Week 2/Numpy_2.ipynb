{
 "cells": [
  {
   "cell_type": "markdown",
   "id": "29bcd5b1-9e12-462e-b29b-26e483cb4d06",
   "metadata": {},
   "source": [
    "<a href=\"https://colab.research.google.com/github/hewp84/CRT420/blob/main/Numpy_2.ipynb\" target=\"_parent\"><img src=\"https://colab.research.google.com/assets/colab-badge.svg\" alt=\"Open In Colab\"/></a>"
   ]
  },
  {
   "cell_type": "markdown",
   "id": "1f8cc2e4-16a8-4f48-9fbb-532daac788e5",
   "metadata": {},
   "source": [
    "# Topic 1: Numpy, part 2"
   ]
  },
  {
   "cell_type": "markdown",
   "id": "fc073cc3-9c7b-4e34-bba8-68f2ce8483e4",
   "metadata": {},
   "source": [
    "## Inputs / Outputs"
   ]
  },
  {
   "cell_type": "code",
   "execution_count": 33,
   "id": "080dac8c-a0bd-4b3f-8145-74fb73666055",
   "metadata": {
    "tags": []
   },
   "outputs": [],
   "source": [
    "import numpy as np"
   ]
  },
  {
   "cell_type": "markdown",
   "id": "c96fe4e2-c8cf-4283-834d-dc98e81efb9e",
   "metadata": {},
   "source": [
    "np.genfromtxt allows loading data from a file into a NumPy array. For example loading from a CSV file:"
   ]
  },
  {
   "cell_type": "code",
   "execution_count": 36,
   "id": "cd89743c-d305-4aaa-b33e-10d1e5e3ceab",
   "metadata": {
    "tags": []
   },
   "outputs": [],
   "source": [
    "data = np.genfromtxt('sample.csv', delimiter=',')"
   ]
  },
  {
   "cell_type": "code",
   "execution_count": 37,
   "id": "499c86d3-f586-4992-8744-661bcca5f883",
   "metadata": {},
   "outputs": [
    {
     "data": {
      "text/plain": [
       "array([[ nan,  nan,  nan,  nan,  nan],\n",
       "       [  0.,  96.,  73.,   1., 247.],\n",
       "       [  1.,  38., 348.,   1., 160.],\n",
       "       [  2.,  87., 256.,   2., 248.],\n",
       "       [  3., 114., 141.,   2., 112.],\n",
       "       [  4.,  76., 132.,   2., 134.],\n",
       "       [  5.,  69., 331.,   1., 137.],\n",
       "       [  6.,  93.,  53.,   2., 287.],\n",
       "       [  7.,  18., 169.,   2., 157.],\n",
       "       [  8.,   4., 178.,   1., 110.],\n",
       "       [  9.,  40., 144.,   1., 159.],\n",
       "       [ 10., 105., 203.,   2., 280.],\n",
       "       [ 11.,  51., 127.,   1., 214.],\n",
       "       [ 12.,  50.,  63.,   2., 161.],\n",
       "       [ 13.,  48., 190.,   2., 157.],\n",
       "       [ 14.,  70.,  80.,   2., 258.],\n",
       "       [ 15.,  69., 130.,   2., 253.],\n",
       "       [ 16., 107., 309.,   1., 123.],\n",
       "       [ 17.,  95., 306.,   1., 149.],\n",
       "       [ 18.,   8., 320.,   1., 266.],\n",
       "       [ 19.,  26.,  62.,   2., 263.],\n",
       "       [ 20.,  76.,  72.,   2., 227.],\n",
       "       [ 21.,  16.,  54.,   1., 181.],\n",
       "       [ 22.,  92., 350.,   1., 174.],\n",
       "       [ 23.,  66.,  81.,   1., 237.],\n",
       "       [ 24.,   4., 334.,   1., 233.],\n",
       "       [ 25.,  67., 226.,   1., 209.],\n",
       "       [ 26.,  94., 332.,   1., 242.],\n",
       "       [ 27.,  64., 318.,   2., 154.],\n",
       "       [ 28., 113., 190.,   1., 293.],\n",
       "       [ 29.,  66.,  57.,   1., 294.],\n",
       "       [ 30.,  58., 192.,   2., 276.],\n",
       "       [ 31., 105., 315.,   2., 255.],\n",
       "       [ 32.,  44.,  61.,   1., 285.],\n",
       "       [ 33.,  23., 145.,   2., 125.],\n",
       "       [ 34.,  78., 165.,   1., 229.],\n",
       "       [ 35.,  51., 215.,   2., 264.],\n",
       "       [ 36.,  38., 255.,   1., 187.],\n",
       "       [ 37., 107., 127.,   2., 204.],\n",
       "       [ 38., 116.,  60.,   2., 189.],\n",
       "       [ 39.,  42.,  62.,   2., 227.],\n",
       "       [ 40.,  69., 288.,   2., 250.],\n",
       "       [ 41.,  19.,  72.,   1., 165.],\n",
       "       [ 42.,  30.,  73.,   1., 254.],\n",
       "       [ 43.,  11., 324.,   1., 186.],\n",
       "       [ 44., 110., 343.,   2., 176.],\n",
       "       [ 45.,  15., 209.,   1., 211.],\n",
       "       [ 46.,   3., 268.,   2., 130.],\n",
       "       [ 47., 110., 315.,   1., 205.],\n",
       "       [ 48.,  78., 194.,   1., 211.],\n",
       "       [ 49.,  37.,  70.,   2., 191.],\n",
       "       [ 50.,   5., 141.,   1., 163.],\n",
       "       [ 51.,  51., 206.,   2., 289.],\n",
       "       [ 52.,   7., 124.,   2., 121.],\n",
       "       [ 53.,  71., 328.,   2., 222.],\n",
       "       [ 54.,  96., 260.,   1., 124.],\n",
       "       [ 55.,  39.,  94.,   1., 121.],\n",
       "       [ 56.,  71., 123.,   1., 231.],\n",
       "       [ 57.,  78., 332.,   1., 127.],\n",
       "       [ 58.,  37., 332.,   2., 168.],\n",
       "       [ 59.,  41., 229.,   1., 194.],\n",
       "       [ 60., 106., 154.,   1., 150.],\n",
       "       [ 61., 116., 125.,   2., 193.],\n",
       "       [ 62.,  71., 248.,   1., 214.],\n",
       "       [ 63.,  21., 305.,   1., 200.],\n",
       "       [ 64.,  46., 221.,   1., 159.],\n",
       "       [ 65.,   9., 107.,   2., 158.],\n",
       "       [ 66., 108.,  70.,   1., 231.],\n",
       "       [ 67.,  66., 101.,   1., 153.],\n",
       "       [ 68.,   4.,  95.,   1., 291.]])"
      ]
     },
     "execution_count": 37,
     "metadata": {},
     "output_type": "execute_result"
    }
   ],
   "source": [
    "data"
   ]
  },
  {
   "cell_type": "markdown",
   "id": "57143948-7abd-4268-b32c-064be94ca894",
   "metadata": {},
   "source": [
    "#### Mostly used key arguments\n",
    "\n",
    "* fname: File path\n",
    "* delimiter: Character separating values\n",
    "* skip_header: Number of rows to skip at top\n",
    "* missing_values: Value indicating missing data\n",
    "* usecols: Columns to read from file\n",
    "* dtype: Data type of array\n",
    "\n",
    "For example, loading specific columns from a CSV with headers:"
   ]
  },
  {
   "cell_type": "code",
   "execution_count": 43,
   "id": "f7d24b4b-e5cc-4422-b11c-07c110c84da9",
   "metadata": {
    "tags": []
   },
   "outputs": [],
   "source": [
    "data = np.genfromtxt('sample.csv', delimiter=',', skip_header=1, dtype=int)"
   ]
  },
  {
   "cell_type": "markdown",
   "id": "d13158b9-7f78-4037-b241-ba42e7d4a87f",
   "metadata": {},
   "source": [
    "### Operations with columns\n",
    "\n",
    "* Central Tendency measures\n",
    "* Sorting .sort()\n",
    "* Filtering using boolean masks\n",
    "* Math operations with column arrays"
   ]
  },
  {
   "cell_type": "code",
   "execution_count": 44,
   "id": "5d693e8b-ec6a-48e8-a3fe-e27981ada282",
   "metadata": {
    "tags": []
   },
   "outputs": [
    {
     "data": {
      "text/plain": [
       "array([ 96,  38,  87, 114,  76,  69,  93,  18,   4,  40, 105,  51,  50,\n",
       "        48,  70,  69, 107,  95,   8,  26,  76,  16,  92,  66,   4,  67,\n",
       "        94,  64, 113,  66,  58, 105,  44,  23,  78,  51,  38, 107, 116,\n",
       "        42,  69,  19,  30,  11, 110,  15,   3, 110,  78,  37,   5,  51,\n",
       "         7,  71,  96,  39,  71,  78,  37,  41, 106, 116,  71,  21,  46,\n",
       "         9, 108,  66,   4])"
      ]
     },
     "execution_count": 44,
     "metadata": {},
     "output_type": "execute_result"
    }
   ],
   "source": [
    "age = data[:,1]\n",
    "age"
   ]
  },
  {
   "cell_type": "code",
   "execution_count": 47,
   "id": "7243c415-f14a-4c2e-bf7c-c3fc673acd2c",
   "metadata": {
    "tags": []
   },
   "outputs": [
    {
     "data": {
      "text/plain": [
       "array([  3,   4,   4,   4,   5,   7,   8,   9,  11,  15,  16,  18,  19,\n",
       "        21,  23,  26,  30,  37,  37,  38,  38,  39,  40,  41,  42,  44,\n",
       "        46,  48,  50,  51,  51,  51,  58,  64,  66,  66,  66,  67,  69,\n",
       "        69,  69,  70,  71,  71,  71,  76,  76,  78,  78,  78,  87,  92,\n",
       "        93,  94,  95,  96,  96, 105, 105, 106, 107, 107, 108, 110, 110,\n",
       "       113, 114, 116, 116])"
      ]
     },
     "execution_count": 47,
     "metadata": {},
     "output_type": "execute_result"
    }
   ],
   "source": [
    "age.sort()\n"
   ]
  },
  {
   "cell_type": "code",
   "execution_count": 52,
   "id": "8a8b5e9d-28d1-4df9-bfc7-605ec830dcd0",
   "metadata": {
    "tags": []
   },
   "outputs": [
    {
     "data": {
      "text/plain": [
       "array([[  8,  11, 178,   1, 110],\n",
       "       [  9,  15, 144,   1, 159],\n",
       "       [ 10,  16, 203,   2, 280],\n",
       "       [ 11,  18, 127,   1, 214],\n",
       "       [ 12,  19,  63,   2, 161],\n",
       "       [ 13,  21, 190,   2, 157],\n",
       "       [ 14,  23,  80,   2, 258],\n",
       "       [ 15,  26, 130,   2, 253],\n",
       "       [ 16,  30, 309,   1, 123],\n",
       "       [ 17,  37, 306,   1, 149],\n",
       "       [ 18,  37, 320,   1, 266],\n",
       "       [ 19,  38,  62,   2, 263],\n",
       "       [ 20,  38,  72,   2, 227],\n",
       "       [ 21,  39,  54,   1, 181],\n",
       "       [ 22,  40, 350,   1, 174],\n",
       "       [ 23,  41,  81,   1, 237],\n",
       "       [ 24,  42, 334,   1, 233],\n",
       "       [ 25,  44, 226,   1, 209],\n",
       "       [ 26,  46, 332,   1, 242],\n",
       "       [ 27,  48, 318,   2, 154],\n",
       "       [ 28,  50, 190,   1, 293],\n",
       "       [ 29,  51,  57,   1, 294],\n",
       "       [ 30,  51, 192,   2, 276],\n",
       "       [ 31,  51, 315,   2, 255],\n",
       "       [ 32,  58,  61,   1, 285],\n",
       "       [ 33,  64, 145,   2, 125],\n",
       "       [ 34,  66, 165,   1, 229],\n",
       "       [ 35,  66, 215,   2, 264],\n",
       "       [ 36,  66, 255,   1, 187],\n",
       "       [ 37,  67, 127,   2, 204],\n",
       "       [ 38,  69,  60,   2, 189],\n",
       "       [ 39,  69,  62,   2, 227],\n",
       "       [ 40,  69, 288,   2, 250],\n",
       "       [ 41,  70,  72,   1, 165],\n",
       "       [ 42,  71,  73,   1, 254],\n",
       "       [ 43,  71, 324,   1, 186],\n",
       "       [ 44,  71, 343,   2, 176],\n",
       "       [ 45,  76, 209,   1, 211],\n",
       "       [ 46,  76, 268,   2, 130],\n",
       "       [ 47,  78, 315,   1, 205],\n",
       "       [ 48,  78, 194,   1, 211],\n",
       "       [ 49,  78,  70,   2, 191],\n",
       "       [ 50,  87, 141,   1, 163],\n",
       "       [ 51,  92, 206,   2, 289],\n",
       "       [ 52,  93, 124,   2, 121],\n",
       "       [ 53,  94, 328,   2, 222],\n",
       "       [ 54,  95, 260,   1, 124],\n",
       "       [ 55,  96,  94,   1, 121],\n",
       "       [ 56,  96, 123,   1, 231],\n",
       "       [ 57, 105, 332,   1, 127],\n",
       "       [ 58, 105, 332,   2, 168],\n",
       "       [ 59, 106, 229,   1, 194],\n",
       "       [ 60, 107, 154,   1, 150],\n",
       "       [ 61, 107, 125,   2, 193],\n",
       "       [ 62, 108, 248,   1, 214],\n",
       "       [ 63, 110, 305,   1, 200],\n",
       "       [ 64, 110, 221,   1, 159],\n",
       "       [ 65, 113, 107,   2, 158],\n",
       "       [ 66, 114,  70,   1, 231],\n",
       "       [ 67, 116, 101,   1, 153],\n",
       "       [ 68, 116,  95,   1, 291]])"
      ]
     },
     "execution_count": 52,
     "metadata": {},
     "output_type": "execute_result"
    }
   ],
   "source": [
    "filtered_age = data[ age > 10 ]\n",
    "filtered_age"
   ]
  },
  {
   "cell_type": "markdown",
   "id": "2869ee75-ef09-479a-9d9b-6e32ededf27b",
   "metadata": {},
   "source": [
    "#### Key arguments\n",
    "\n",
    "* arr: The NumPy array being indexed\n",
    "* start: Starting index for slice\n",
    "    * Integer or None to start from beginning\n",
    "* stop: Ending index for slice\n",
    "    * Integer or None to go to end\n",
    "* step: Step size for slice\n",
    "    * Integer\n",
    "* column_index: Index of column to select\n",
    "    * Integer index or string column name\n",
    "* single_index: Single index for selecting one element\n",
    "    * Integer index"
   ]
  },
  {
   "cell_type": "code",
   "execution_count": null,
   "id": "71950b13-f14c-4f60-8bdc-00c799780967",
   "metadata": {},
   "outputs": [],
   "source": [
    "arr[start:stop:step, column_index] \n",
    "\n",
    "arr[single_index, column_index]"
   ]
  },
  {
   "cell_type": "code",
   "execution_count": 58,
   "id": "7b5271bc-e0ac-4807-a766-2886a5f95e17",
   "metadata": {
    "tags": []
   },
   "outputs": [
    {
     "data": {
      "text/plain": [
       "array([[  9,  15, 144,   1, 159],\n",
       "       [ 11,  18, 127,   1, 214],\n",
       "       [ 13,  21, 190,   2, 157],\n",
       "       [ 15,  26, 130,   2, 253],\n",
       "       [ 17,  37, 306,   1, 149],\n",
       "       [ 19,  38,  62,   2, 263],\n",
       "       [ 21,  39,  54,   1, 181]])"
      ]
     },
     "execution_count": 58,
     "metadata": {},
     "output_type": "execute_result"
    }
   ],
   "source": [
    "filtered_age[1:15:2]"
   ]
  },
  {
   "cell_type": "code",
   "execution_count": null,
   "id": "4f07bd7c-79e1-44cb-ab72-3428794b21e7",
   "metadata": {},
   "outputs": [],
   "source": []
  }
 ],
 "metadata": {
  "kernelspec": {
   "display_name": "Python 3 (ipykernel)",
   "language": "python",
   "name": "python3"
  },
  "language_info": {
   "codemirror_mode": {
    "name": "ipython",
    "version": 3
   },
   "file_extension": ".py",
   "mimetype": "text/x-python",
   "name": "python",
   "nbconvert_exporter": "python",
   "pygments_lexer": "ipython3",
   "version": "3.11.3"
  }
 },
 "nbformat": 4,
 "nbformat_minor": 5
}
