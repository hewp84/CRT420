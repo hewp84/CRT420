{
 "cells": [
  {
   "cell_type": "markdown",
   "id": "7c501435-3d53-46ff-b302-f26b8cca8f2b",
   "metadata": {},
   "source": [
    "<a href=\"https://colab.research.google.com/github/hewp84/CRT420/blob/main/HW1.ipynb\" target=\"_parent\"><img src=\"https://colab.research.google.com/assets/colab-badge.svg\" alt=\"Open In Colab\"/></a>"
   ]
  },
  {
   "cell_type": "markdown",
   "id": "8907a167-4c6a-4381-ab53-dae23246253d",
   "metadata": {},
   "source": [
    "# Homework 1: Exercises\n",
    "\n",
    "Solve the following exercises using the Numpy library.\n",
    "\n",
    "1. Create a 4x4 ndarray with values ranging from 2 to 10\n",
    "2. Take two 5x3 ndarrays and multiply them element-wise\n",
    "3. Find the sine of all values in a linear spaced array from 0 to 2π\n",
    "4. Generate a vector of 100 normal random values, find the mean, std dev, and variance\n",
    "5. Compute the dot product between two 10-element 1D arrays\n",
    "6. Reshape a 15x4 array into a 3x20 array using np.reshape()\n",
    "7. Apply a median filter with kernel size 3x3 to reduce noise in an image array\n",
    "8. Calculate a histogram with 20 bins from an array of 1000 normally distributed random numbers"
   ]
  },
  {
   "cell_type": "code",
   "execution_count": null,
   "id": "56927bd0-dc7b-41ed-b6fb-fd263a4cb409",
   "metadata": {},
   "outputs": [],
   "source": []
  }
 ],
 "metadata": {
  "kernelspec": {
   "display_name": "Python 3 (ipykernel)",
   "language": "python",
   "name": "python3"
  },
  "language_info": {
   "codemirror_mode": {
    "name": "ipython",
    "version": 3
   },
   "file_extension": ".py",
   "mimetype": "text/x-python",
   "name": "python",
   "nbconvert_exporter": "python",
   "pygments_lexer": "ipython3",
   "version": "3.11.3"
  }
 },
 "nbformat": 4,
 "nbformat_minor": 5
}
