{
 "cells": [
  {
   "cell_type": "markdown",
   "id": "cbd2b7be-c7cd-44f2-93a8-dd4cd07bce7a",
   "metadata": {},
   "source": [
    "<a href=\"https://colab.research.google.com/github/hewp84/CRT420/blob/main/Numpy_1.ipynb\" target=\"_parent\"><img src=\"https://colab.research.google.com/assets/colab-badge.svg\" alt=\"Open In Colab\"/></a>"
   ]
  },
  {
   "cell_type": "markdown",
   "id": "96c0d3f2-bfc6-48c2-b220-67835fea4cd4",
   "metadata": {
    "tags": []
   },
   "source": [
    "# Topic 1: Numpy, part 1"
   ]
  },
  {
   "cell_type": "markdown",
   "id": "015f1dda-ecc8-40e1-9100-2641cad7c555",
   "metadata": {
    "tags": []
   },
   "source": [
    "NumPy is a fundamental package for scientific computing in Python. It provides support for large, multi-dimensional arrays and matrices along with a large library of high-level mathematical functions to operate on these arrays.\n",
    "\n",
    "Some key features of NumPy include:\n",
    "\n",
    "* NumPy Arrays\n",
    "\n",
    "    * Creating arrays\n",
    "    * Array indexing\n",
    "    * Basic array operations (arithmetic, comparisons, etc)\n",
    "    * Array reshaping and transposing\n",
    "    * Broadcasting\n",
    "* Advanced Array Functionality\n",
    "\n",
    "    * Masked arrays\n",
    "    * Array concatenation and splitting\n",
    "    * Sorting arrays\n",
    "    * Unique elements, set operations\n",
    "    * Random number generation with arrays\n",
    "* Linear Algebra Functions\n",
    "\n",
    "    * Vector/matrix math (dot product, determinants, inverses etc)\n",
    "    * Decompositions (LU, QR, SVD etc)\n",
    "    * Eigenvalues and eigenvectors\n",
    "* Statistical Functions\n",
    "\n",
    "    * Mean, median, variance etc of array\n",
    "    * Histogramming\n",
    "    * Correlations\n",
    "    * Distributions (PDFs, CDFs)\n",
    "* Input/Output\n",
    "\n",
    "    * Loading and saving arrays to disk\n",
    "    * Reading/writing specific file formats like CSV\n",
    "    * Memory mapping for large arrays"
   ]
  },
  {
   "cell_type": "markdown",
   "id": "e83a6968-0ebf-45e5-af9d-639db9473ffb",
   "metadata": {},
   "source": [
    "## Numpy Arrays\n",
    "\n",
    "The main object in NumPy is the homogeneous multidimensional array. This is a table of elements all of the same type (e.g. float64, int32) indexed by a tuple of positive integers.\n",
    "\n",
    "Creating arrays:\n",
    "\n",
    "* np.array(): Create arrays from python lists or tuples\n",
    "* np.zeros(): Create arrays filled with zeros\n",
    "* np.ones(): Create arrays filled with ones\n",
    "* np.full(): Create arrays filled with any value\n",
    "* np.arange(): Like python range but returns array\n",
    "* np.linspace(): Create arrays with evenly spaced elements"
   ]
  },
  {
   "cell_type": "code",
   "execution_count": 55,
   "id": "2e678927-2250-4aee-8e03-42355787ff22",
   "metadata": {
    "tags": []
   },
   "outputs": [
    {
     "name": "stdout",
     "output_type": "stream",
     "text": [
      "[0.   0.25 0.5  0.75 1.  ]\n"
     ]
    }
   ],
   "source": [
    "import numpy as np\n",
    "\n",
    "a = np.array([1, 2, 3, 4]) # Create 1D array\n",
    "\n",
    "b = np.array([[1, 2], [3, 4]]) # 2D array\n",
    "#print(b)\n",
    "\n",
    "c = np.zeros(3) # [0. 0. 0.]\n",
    "\n",
    "d = np.ones((2,3), dtype=int) # [[1 1 1] \n",
    "                              #  [1 1 1]]\n",
    "e = np.full((3,2), 7) # [[7 7]\n",
    "                       #  [7 7] \n",
    "                       #  [7 7]]\n",
    "\n",
    "f = np.arange(5) # [0 1 2 3 4]\n",
    "g = np.linspace(0, 1, 5) # [0.  0.25 0.5  0.75 1.  ]\n",
    "print(g)"
   ]
  },
  {
   "cell_type": "markdown",
   "id": "3d27a94c-7265-4264-817e-1af211a569ca",
   "metadata": {
    "tags": []
   },
   "source": [
    "Array indexing:\n",
    "\n",
    "* 1D arrays indexed like python lists\n",
    "* 2D indexed using [row, column]\n",
    "* Fancy indexing with boolean masks, ranges, etc."
   ]
  },
  {
   "cell_type": "code",
   "execution_count": 57,
   "id": "999cc01a-b13b-461e-a0aa-c0d9fcea160c",
   "metadata": {
    "tags": []
   },
   "outputs": [
    {
     "data": {
      "text/plain": [
       "array([1, 2, 4])"
      ]
     },
     "execution_count": 57,
     "metadata": {},
     "output_type": "execute_result"
    }
   ],
   "source": [
    "a = np.array([1, 2, 3, 4]) \n",
    "a[0] # 1\n",
    "a[-1] # 4\n",
    "\n",
    "b = np.array([[1,2,3], [4,5,6]])  \n",
    "b[0, 0] # 1\n",
    "b[1, -1] # 6\n",
    "\n",
    "c = np.array([1, 5, 2, 18, 4])\n",
    "c[c < 5] # [1, 2, 4]\n"
   ]
  },
  {
   "cell_type": "code",
   "execution_count": 58,
   "id": "42b410e8-cc97-45f0-9a71-e2f498d27a84",
   "metadata": {
    "tags": []
   },
   "outputs": [
    {
     "name": "stdout",
     "output_type": "stream",
     "text": [
      "[ 1  2  3  4  5  6  7  8  9 10]\n"
     ]
    }
   ],
   "source": [
    "arr = np.arange(1, 11)\n",
    "print(arr)"
   ]
  },
  {
   "cell_type": "code",
   "execution_count": 59,
   "id": "51b1a60b-a94a-4a6f-ad2a-2b8ec414ada2",
   "metadata": {
    "tags": []
   },
   "outputs": [
    {
     "data": {
      "text/plain": [
       "array([ 6,  7,  8,  9, 10])"
      ]
     },
     "execution_count": 59,
     "metadata": {},
     "output_type": "execute_result"
    }
   ],
   "source": [
    "# Select elements greater than 5\n",
    "mask = arr > 5  \n",
    "arr[mask] \n",
    "\n",
    "# Output: array([6, 7, 8, 9, 10])"
   ]
  },
  {
   "cell_type": "code",
   "execution_count": 62,
   "id": "e15680fc-c999-4a3e-bb05-a1a542b890cf",
   "metadata": {
    "tags": []
   },
   "outputs": [
    {
     "data": {
      "text/plain": [
       "array([2, 3])"
      ]
     },
     "execution_count": 62,
     "metadata": {},
     "output_type": "execute_result"
    }
   ],
   "source": [
    "# Select range of elements from index 1 to 5\n",
    "arr[1:3]\n",
    "\n",
    "# Output: array([2, 3, 4, 5])"
   ]
  },
  {
   "cell_type": "code",
   "execution_count": 65,
   "id": "9b426677-8c74-42b7-a57d-ed7b45fb5414",
   "metadata": {
    "tags": []
   },
   "outputs": [
    {
     "data": {
      "text/plain": [
       "array([ 1,  2,  3,  4,  5,  6,  7,  8,  9, 10])"
      ]
     },
     "execution_count": 65,
     "metadata": {},
     "output_type": "execute_result"
    }
   ],
   "source": [
    "# Select elements between 3 and 7\n",
    "mask = (arr >= 3) & (arr <= 7)\n",
    "arr[mask]  \n",
    "\n",
    "# Output: array([3, 4, 5, 6, 7])"
   ]
  },
  {
   "cell_type": "code",
   "execution_count": 66,
   "id": "5aa25979-d914-47e3-ad89-3398b9d8781c",
   "metadata": {
    "tags": []
   },
   "outputs": [
    {
     "data": {
      "text/plain": [
       "array([2, 4, 6])"
      ]
     },
     "execution_count": 66,
     "metadata": {},
     "output_type": "execute_result"
    }
   ],
   "source": [
    "# Select elements at indices 1, 3 and 5\n",
    "indices = [1, 3, 5]\n",
    "arr[indices]\n",
    "\n",
    "# Output: array([2, 4, 6])"
   ]
  },
  {
   "cell_type": "code",
   "execution_count": 67,
   "id": "a7d28d32-993d-44c5-ace2-0d62369c9ae7",
   "metadata": {
    "tags": []
   },
   "outputs": [
    {
     "data": {
      "text/plain": [
       "array([ 8,  9, 10])"
      ]
     },
     "execution_count": 67,
     "metadata": {},
     "output_type": "execute_result"
    }
   ],
   "source": [
    "# Select values greater than 7\n",
    "i = np.where(arr > 7) \n",
    "arr[i]\n",
    "\n",
    "# Output: array([8, 9, 10])"
   ]
  },
  {
   "cell_type": "code",
   "execution_count": 95,
   "id": "7959227d-ca90-40d5-9b9e-7cf3eb153b4f",
   "metadata": {
    "tags": []
   },
   "outputs": [
    {
     "name": "stdout",
     "output_type": "stream",
     "text": [
      "['Brock' 'Liz' 'Ron']\n"
     ]
    }
   ],
   "source": [
    "text = np.array(['Brock','Liz','Ron'])\n",
    "print(text)"
   ]
  },
  {
   "cell_type": "markdown",
   "id": "36c007e8-9714-47c0-8cb1-29ebc2182f8c",
   "metadata": {},
   "source": [
    "## Mathematics with Numpy\n",
    "\n",
    "### Arithmetic operations with Arrays"
   ]
  },
  {
   "cell_type": "code",
   "execution_count": 77,
   "id": "655b8e27-0278-4eeb-a985-378b9b3dabd7",
   "metadata": {
    "tags": []
   },
   "outputs": [],
   "source": [
    "a = np.array([1, 2, 3])\n",
    "b = np.array([4, 5, 6])"
   ]
  },
  {
   "cell_type": "code",
   "execution_count": 78,
   "id": "8444c0e5-927f-4962-b37e-d9ff7773bc42",
   "metadata": {
    "tags": []
   },
   "outputs": [
    {
     "data": {
      "text/plain": [
       "array([0.25, 0.4 , 0.5 ])"
      ]
     },
     "execution_count": 78,
     "metadata": {},
     "output_type": "execute_result"
    }
   ],
   "source": [
    "a + b\n",
    "a - b\n",
    "a * b\n",
    "a / b\n",
    "\n",
    "\n"
   ]
  },
  {
   "cell_type": "code",
   "execution_count": 79,
   "id": "8f1584f8-9a1d-470b-895f-0c23fc92f55f",
   "metadata": {
    "tags": []
   },
   "outputs": [
    {
     "data": {
      "text/plain": [
       "32"
      ]
     },
     "execution_count": 79,
     "metadata": {},
     "output_type": "execute_result"
    }
   ],
   "source": [
    "np.dot(a, b)"
   ]
  },
  {
   "cell_type": "code",
   "execution_count": 80,
   "id": "44d7955d-0ccf-4c9c-a7eb-c1b7044f7919",
   "metadata": {
    "tags": []
   },
   "outputs": [
    {
     "data": {
      "text/plain": [
       "array([[5, 4],\n",
       "       [3, 4]])"
      ]
     },
     "execution_count": 80,
     "metadata": {},
     "output_type": "execute_result"
    }
   ],
   "source": [
    "c = np.array([[1, 1], [0, 1]]) \n",
    "d = np.array([[2, 0], [3, 4]])\n",
    "\n",
    "np.matmul(c, d)\n"
   ]
  },
  {
   "cell_type": "markdown",
   "id": "ec06d354-c3b0-4342-9a67-41c7b22a3295",
   "metadata": {},
   "source": [
    "### Algebra & Trigonometry:\n",
    "\n",
    "* np.sin(), np.cos(), np.tan() - Trigonometry\n",
    "* np.log(), np.exp() - Logarithms/Exponentiation\n",
    "* np.sqrt(), np.power() - Roots/Powers\n",
    "* np.maximum(), np.minimum() - Element-wise maximum/minimum\n",
    "\n"
   ]
  },
  {
   "cell_type": "code",
   "execution_count": 81,
   "id": "3973d27a-8c05-48c8-a765-37f31782a2e1",
   "metadata": {
    "tags": []
   },
   "outputs": [
    {
     "data": {
      "text/plain": [
       "array([0.84147098, 0.90929743, 0.14112001])"
      ]
     },
     "execution_count": 81,
     "metadata": {},
     "output_type": "execute_result"
    }
   ],
   "source": [
    "np.sin(a)"
   ]
  },
  {
   "cell_type": "markdown",
   "id": "75e31a82-df61-4d91-b0ba-725e88f2426d",
   "metadata": {},
   "source": [
    "### Linear algebra:\n",
    "\n",
    "* np.linalg module - Matrix decompositions, determinants, etc."
   ]
  },
  {
   "cell_type": "code",
   "execution_count": null,
   "id": "3c44b3bc-e1f2-4c04-bcd2-8e7573125389",
   "metadata": {},
   "outputs": [],
   "source": [
    "values = np.linspace(0, np.pi, 3)\n",
    "np.sin(values) \n",
    "\n",
    "np.linalg.det(c) # 1.0\n",
    "np.linalg.eig(d) # Eigendecomposition"
   ]
  },
  {
   "cell_type": "markdown",
   "id": "47c86184-9709-441e-82a2-7634627b2b48",
   "metadata": {},
   "source": [
    "### Statistics\n",
    "\n",
    "* Mininum and maximum: .min(), .max()\n",
    "* Central tendency measurements: .mean(), np.median(arr)\n",
    "* Dispersion measurments: .var(), .std(), np.quantile(arr, 0.25)\n",
    "* Correlation, and histograms: np.corrcoef(arr1, arr2), np.histogram(arr, bins= #)"
   ]
  },
  {
   "cell_type": "code",
   "execution_count": 93,
   "id": "92ffa513-c1e8-485c-9611-7aebc59afaa9",
   "metadata": {
    "tags": []
   },
   "outputs": [
    {
     "data": {
      "text/plain": [
       "1.4142135623730951"
      ]
     },
     "execution_count": 93,
     "metadata": {},
     "output_type": "execute_result"
    }
   ],
   "source": [
    "stat = np.array([1, 2, 3, 4, 5])\n",
    "stat.mean()\n",
    "stat.std()"
   ]
  },
  {
   "cell_type": "code",
   "execution_count": null,
   "id": "d8ce074e-a437-4e3d-a9cd-5a15577cb288",
   "metadata": {
    "tags": []
   },
   "outputs": [],
   "source": [
    "arr.min() \n",
    "np.histogram(arr, bins= 5)"
   ]
  },
  {
   "cell_type": "markdown",
   "id": "56a5dbe5-bcc0-449a-9103-690db047bac3",
   "metadata": {},
   "source": [
    "## Applications with Numpy\n",
    "\n",
    "### Image Processing\n",
    "\n",
    "NumPy is used for storing and manipulating image pixel data. Images in Python can be represented as NumPy arrays for efficient storage and vectorized processing. Operations like filtering, transformations, masking, etc. can be applied to images using NumPy array operations."
   ]
  },
  {
   "cell_type": "code",
   "execution_count": null,
   "id": "de5b0b41-2f56-4e7e-8ed7-cb776e4d9968",
   "metadata": {},
   "outputs": [],
   "source": [
    "#Filters used for Image processing with Numpy\n",
    "\n",
    "# Median filter - Help reduce noise/speckles\n",
    "from scipy.ndimage import median_filter\n",
    "median_filtered = median_filter(img_array, size=3)\n",
    "\n",
    "# Sobel filter - Detect edges/gradients\n",
    "from scipy.ndimage import sobel\n",
    "sobel_filtered = sobel(img_array)\n",
    "\n",
    "# Prewitt filter - Also detects edges\n",
    "from scipy.ndimage import prewitt\n",
    "prewitt_filtered = prewitt(img_array)\n",
    "\n",
    "# Gaussian high-pass filter - Sharpen image\n",
    "from scipy.ndimage import gaussian_filter\n",
    "sharpened = img_array - gaussian_filter(img_array, sigma=10)\n",
    "\n",
    "# Laplacian filter - Also used for sharpening\n",
    "from scipy.ndimage import laplace\n",
    "laplace_filtered = laplace(img_array)\n",
    "\n",
    "# Histogram equalization - Improve contrast\n",
    "from scipy import signal\n",
    "equalized = signal.histeq(img_array)"
   ]
  },
  {
   "cell_type": "code",
   "execution_count": null,
   "id": "838b4c33-6b54-4ffa-b2ff-d30746aaf46e",
   "metadata": {
    "tags": []
   },
   "outputs": [],
   "source": [
    "#Algorithm\n",
    "import numpy as np\n",
    "from PIL import Image\n",
    "\n",
    "# Load image and convert to NumPy array\n",
    "img = Image.open('encapsulation.png')\n",
    "img_array = np.asarray(img) \n",
    "\n",
    "# Apply Gaussian blur filter\n",
    "from scipy.ndimage import gaussian_filter \n",
    "blurred = gaussian_filter(img_array, sigma=5)\n",
    "\n",
    "# Save blurred image \n",
    "blurred_img = Image.fromarray(blurred)\n",
    "blurred_img.save('blurred.jpg')"
   ]
  }
 ],
 "metadata": {
  "kernelspec": {
   "display_name": "Python 3 (ipykernel)",
   "language": "python",
   "name": "python3"
  },
  "language_info": {
   "codemirror_mode": {
    "name": "ipython",
    "version": 3
   },
   "file_extension": ".py",
   "mimetype": "text/x-python",
   "name": "python",
   "nbconvert_exporter": "python",
   "pygments_lexer": "ipython3",
   "version": "3.11.3"
  }
 },
 "nbformat": 4,
 "nbformat_minor": 5
}
