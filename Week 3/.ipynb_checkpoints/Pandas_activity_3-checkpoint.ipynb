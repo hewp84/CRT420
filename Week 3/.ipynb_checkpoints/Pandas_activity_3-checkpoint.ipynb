{
 "cells": [
  {
   "cell_type": "markdown",
   "id": "e4506bf8-bb1b-4141-b41f-f42019037ad6",
   "metadata": {},
   "source": [
    "<a href=\"https://colab.research.google.com/github/hewp84/CRT420/blob/main/Pandas_activity_3.ipynb\" target=\"_parent\"><img src=\"https://colab.research.google.com/assets/colab-badge.svg\" alt=\"Open In Colab\"/></a>"
   ]
  },
  {
   "cell_type": "markdown",
   "id": "a063bfb9-0437-41c1-8b55-41a9782a46a3",
   "metadata": {},
   "source": [
    "# PANDAS: Activity 3\n",
    "\n",
    "Analyze a dataset using grouping and aggregation methods.\n",
    "Please use `grouped`, `pivot`, `pivot_table`, or `melt` to answer the following questions."
   ]
  },
  {
   "cell_type": "markdown",
   "id": "98f3d0ef-7e1b-4bf2-8fb1-e130fb3c3e24",
   "metadata": {},
   "source": [
    "1. What is the average lead time for canceled and non-canceled hotel bookings?\n",
    "\n",
    "* Group the data by the 'is_canceled' column and calculate the mean of the 'lead_time' column for each group."
   ]
  },
  {
   "cell_type": "code",
   "execution_count": null,
   "id": "7e3cb443-4ee8-4e0a-94c6-881d71f59357",
   "metadata": {},
   "outputs": [],
   "source": []
  },
  {
   "cell_type": "markdown",
   "id": "3652d72b-84da-44b8-8b90-551ff1c80c90",
   "metadata": {
    "tags": []
   },
   "source": [
    "2. How does the average daily rate (ADR) vary by the type of meal booked?\n",
    "\n",
    "* Group the data by the 'meal' column and calculate the mean of the 'adr' column for each meal type."
   ]
  },
  {
   "cell_type": "code",
   "execution_count": null,
   "id": "c01d0e1e-cec5-49c7-92b3-1a260151736b",
   "metadata": {},
   "outputs": [],
   "source": []
  },
  {
   "cell_type": "markdown",
   "id": "40730869-f3e5-4c4e-9af8-b829943818e2",
   "metadata": {},
   "source": [
    "3. What is the most common country of origin for hotel guests, and how many guests are from that country?\n",
    "\n",
    "* Group the data by the 'country' column, count the number of occurrences for each country, and find the country with the highest count."
   ]
  },
  {
   "cell_type": "code",
   "execution_count": null,
   "id": "33fb8f6d-1cfe-49e8-9a94-d46c4a8a8749",
   "metadata": {},
   "outputs": [],
   "source": []
  },
  {
   "cell_type": "markdown",
   "id": "10f470b9-ff70-49b9-8c74-a6fdcfd50402",
   "metadata": {},
   "source": [
    "4. How does the average length of stay (in nights) vary by the year of arrival?\n",
    "\n",
    "* Group the data by the 'arrival_date_year' column and calculate the mean of the 'stays_in_week_nights' column for each year."
   ]
  },
  {
   "cell_type": "code",
   "execution_count": null,
   "id": "fefb3903-ceea-498d-971b-1e6c737ef892",
   "metadata": {},
   "outputs": [],
   "source": []
  },
  {
   "cell_type": "markdown",
   "id": "58c69deb-8d29-41a6-92e0-b247a153e1b3",
   "metadata": {},
   "source": [
    "5. What is the distribution of hotel bookings across different months for each type of deposit (e.g., No Deposit, Non Refund, etc.)?\n",
    "\n",
    "* Pivot the data to have 'arrival_date_month' as rows, 'deposit_type' as columns, and the count of bookings as values."
   ]
  },
  {
   "cell_type": "code",
   "execution_count": null,
   "id": "e67ac588-35ad-45f8-a298-7ed584526fcc",
   "metadata": {},
   "outputs": [],
   "source": []
  },
  {
   "cell_type": "markdown",
   "id": "9560eb40-e969-4100-b420-915e6a341be0",
   "metadata": {},
   "source": [
    "6. How does the market segment for hotel bookings change over the years?\n",
    "\n",
    "* Create a pivot table with 'arrival_date_year' as rows, 'market_segment' as columns, and the count of bookings as values."
   ]
  },
  {
   "cell_type": "code",
   "execution_count": null,
   "id": "2cc9e5d3-1ca8-4c1a-aa73-5c901f0da085",
   "metadata": {},
   "outputs": [],
   "source": []
  },
  {
   "cell_type": "markdown",
   "id": "b1cc9c02-7e74-4717-a9a5-8d69cc84baba",
   "metadata": {},
   "source": [
    "7. What is the distribution of booking changes made by different room types (reserved_room_type) across different months of the year?\n",
    "\n",
    "* Use the melt method to reshape the data, using 'reserved_room_type' as the ID variable and 'arrival_date_month' as the variable to be melted. Then, analyze the distribution of 'booking_changes' across different room types and months."
   ]
  },
  {
   "cell_type": "code",
   "execution_count": null,
   "id": "faf601e2-85e5-40cc-836c-9cd769fdb42b",
   "metadata": {},
   "outputs": [],
   "source": []
  },
  {
   "cell_type": "markdown",
   "id": "f8fad13c-9010-4a57-a2e5-82546c9b041f",
   "metadata": {},
   "source": [
    "8. What is the total number of stays (weekend nights + weeknights) for each type of deposit (e.g., No Deposit, Non Refund, etc.) in each year of arrival?\n",
    "\n",
    "* Use the pivot method with the following columns: 'arrival_date_year', 'deposit_type', 'stays_in_weekend_nights', and 'stays_in_week_nights' to reshape the data and calculate the total stays for each deposit type in each year."
   ]
  },
  {
   "cell_type": "code",
   "execution_count": null,
   "id": "9a5696bc-9902-480b-a021-4106ed424651",
   "metadata": {},
   "outputs": [],
   "source": []
  },
  {
   "cell_type": "markdown",
   "id": "ef34381c-f629-4128-933b-9e3d18faf8d3",
   "metadata": {},
   "source": [
    "9. What is the average daily rate (ADR) for different room types (assigned_room_type) in each month of the year?\n",
    "\n",
    "* Use the pivot_table method with the following columns: 'arrival_date_month', 'assigned_room_type', and 'adr' to create a pivot table that calculates the mean ADR for each room type in each month."
   ]
  },
  {
   "cell_type": "code",
   "execution_count": null,
   "id": "b0b35ccf-0319-4a64-be33-0f2198c3b8d8",
   "metadata": {},
   "outputs": [],
   "source": []
  }
 ],
 "metadata": {
  "kernelspec": {
   "display_name": "Python 3 (ipykernel)",
   "language": "python",
   "name": "python3"
  },
  "language_info": {
   "codemirror_mode": {
    "name": "ipython",
    "version": 3
   },
   "file_extension": ".py",
   "mimetype": "text/x-python",
   "name": "python",
   "nbconvert_exporter": "python",
   "pygments_lexer": "ipython3",
   "version": "3.11.3"
  }
 },
 "nbformat": 4,
 "nbformat_minor": 5
}
