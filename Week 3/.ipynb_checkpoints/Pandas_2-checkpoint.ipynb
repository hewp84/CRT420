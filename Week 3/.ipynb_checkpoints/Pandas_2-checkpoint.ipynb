{
 "cells": [
  {
   "cell_type": "markdown",
   "id": "083efea0-43e8-4260-9171-9e464cfd58f4",
   "metadata": {},
   "source": [
    "<a href=\"https://colab.research.google.com/github/hewp84/CRT420/blob/main/Pandas_2.ipynb\" target=\"_parent\"><img src=\"https://colab.research.google.com/assets/colab-badge.svg\" alt=\"Open In Colab\"/></a>"
   ]
  },
  {
   "cell_type": "markdown",
   "id": "5f3509c4-e709-42cc-b36d-7724b481b4d3",
   "metadata": {},
   "source": [
    "# PANDAS: Views and Selection\n",
    "\n",
    "## Viewing data\n",
    "\n",
    "### Head and Tail Methods\n",
    "\n",
    "The head() and tail() methods allow us to view a subset of rows from the top or bottom of a DataFrame.\n",
    "\n",
    "Some key points about head() and tail():\n",
    "\n",
    "* The default is 5 rows if N is not provided.\n",
    "* Helpful for quickly checking/previewing data.\n",
    "* More efficient than loading the full DataFrame.\n",
    "* Works on any Pandas object like Series too."
   ]
  },
  {
   "cell_type": "code",
   "execution_count": null,
   "id": "4d2ed07a-a72c-4dcc-a813-96d738673261",
   "metadata": {
    "tags": []
   },
   "outputs": [],
   "source": [
    "import pandas as pd\n",
    "import numpy as mnp"
   ]
  },
  {
   "cell_type": "code",
   "execution_count": null,
   "id": "86ef3228-7347-43ae-85b3-1003774de5c8",
   "metadata": {
    "tags": []
   },
   "outputs": [],
   "source": [
    "import pandas as pd\n",
    "\n",
    "data = {'Name': ['Ronald', 'Brock', 'Liz', 'Hector', 'Lionel', 'Gabriel', 'Aaron', 'Ben'],\n",
    "        'Age': [25, 27, 31, 19, 34, 22, 20, 29]}\n",
    "\n",
    "df = pd.DataFrame(data)"
   ]
  },
  {
   "cell_type": "code",
   "execution_count": null,
   "id": "d41c42ed-453b-4953-aca2-ebced0bbc244",
   "metadata": {
    "tags": []
   },
   "outputs": [],
   "source": [
    "df.head()"
   ]
  },
  {
   "cell_type": "code",
   "execution_count": null,
   "id": "83d5de70-e96f-49ea-84e2-dc7f61a97a4a",
   "metadata": {
    "tags": []
   },
   "outputs": [],
   "source": [
    "df.tail(2)"
   ]
  },
  {
   "cell_type": "code",
   "execution_count": null,
   "id": "fae520ac-af6f-4527-9b6f-bbe47d2576df",
   "metadata": {
    "tags": []
   },
   "outputs": [],
   "source": [
    "df_world = pd.read_csv('world-data-2023.csv')"
   ]
  },
  {
   "cell_type": "code",
   "execution_count": null,
   "id": "de216f8b-7ee3-4edb-8d85-cb2fee5bdd76",
   "metadata": {
    "tags": []
   },
   "outputs": [],
   "source": [
    "df_world.head(10)"
   ]
  },
  {
   "cell_type": "code",
   "execution_count": null,
   "id": "431e8ba0-2d40-435f-b18b-74dfaf706c76",
   "metadata": {},
   "outputs": [],
   "source": [
    "#Try different parameters for the given methods...\n"
   ]
  },
  {
   "cell_type": "markdown",
   "id": "586af29f-79f1-4d26-8f12-13aadaaed8d7",
   "metadata": {},
   "source": [
    "### Describe Method\n",
    "\n",
    "The describe() method generates descriptive statistics for the DataFrame. It provides different output for numeric and object/categorical columns.\n",
    "\n",
    "For quantitative data, describe() includes:\n",
    "\n",
    "* count - The number of non-NaN values in each column.\n",
    "* mean - The average value for each column.\n",
    "* std - The standard deviation, measuring how dispersed the values are from the mean.\n",
    "* min - The minimum value in each column.\n",
    "* 25% - The 25th percentile, where 25% of values are lower.\n",
    "* 50% - The median or 50th percentile. The midpoint of the values.\n",
    "* 75% - The 75th percentile, where 75% of the values are lower.\n",
    "* max - The maximum value in each column.\n",
    "\n",
    "Syntax: `DataFrame.describe(percentiles=None, include=None, exclude=None) `"
   ]
  },
  {
   "cell_type": "code",
   "execution_count": null,
   "id": "3d5be7cf-92f2-4c14-9980-27155371b995",
   "metadata": {
    "tags": []
   },
   "outputs": [],
   "source": [
    "df_sample = pd.read_csv('sample.csv')\n",
    "df_sample.describe(exclude=[object])"
   ]
  },
  {
   "cell_type": "code",
   "execution_count": null,
   "id": "ff7e6ac7-9217-48fe-b9ce-627484ad81c7",
   "metadata": {
    "tags": []
   },
   "outputs": [],
   "source": [
    "df_world['Official language'].head()"
   ]
  },
  {
   "cell_type": "code",
   "execution_count": null,
   "id": "429cb556-88bc-40c8-9599-22ffaeabcf80",
   "metadata": {
    "tags": []
   },
   "outputs": [],
   "source": [
    "df_world['Official language'].describe()"
   ]
  },
  {
   "cell_type": "markdown",
   "id": "c919d707-598b-45be-a0fe-5a9c81d1d382",
   "metadata": {},
   "source": [
    "## Selection"
   ]
  },
  {
   "cell_type": "markdown",
   "id": "1e25a555-33cf-4db5-a912-7c2e1901c4de",
   "metadata": {
    "tags": []
   },
   "source": [
    "#### Bracket Notation []\n",
    "\n",
    "Select columns:\n",
    "\n",
    "* Single bracket selects one column as a Series\n",
    "* Double bracket passes a list of column names to select multiple columns"
   ]
  },
  {
   "cell_type": "code",
   "execution_count": null,
   "id": "24ffb927-84c4-440c-8eaf-b38476ee93a3",
   "metadata": {},
   "outputs": [],
   "source": [
    "df['A'] # Single column as Series\n",
    "df[['A', 'B']] # Multiple columns as DataFrame"
   ]
  },
  {
   "cell_type": "markdown",
   "id": "06657f84-dafa-4645-8e1d-fe56f8502cd6",
   "metadata": {},
   "source": [
    "#### loc Attribute\n",
    "\n",
    "Select rows and columns by label:\n",
    "\n",
    "* Single label selects one row\n",
    "* Slice with ':' to select a range of rows\n",
    "* ':' alone selects all rows"
   ]
  },
  {
   "cell_type": "code",
   "execution_count": null,
   "id": "3c385c1a-2168-460b-9d4f-dfcb5af9815d",
   "metadata": {},
   "outputs": [],
   "source": [
    "df.loc[1] # Single row by label \n",
    "df.loc[1:5] # Slice of rows\n",
    "df.loc[:, 'A'] # All rows, single column"
   ]
  },
  {
   "cell_type": "markdown",
   "id": "b5e43ec3-682d-45fd-a1fc-51249021a055",
   "metadata": {},
   "source": [
    "#### iloc Attribute\n",
    "\n",
    "Select rows and columns by integer position:\n",
    "\n",
    "* Single integer selects one row/column\n",
    "* Slice with ':' to select a range\n",
    "* ':' alone selects all rows/columns"
   ]
  },
  {
   "cell_type": "code",
   "execution_count": null,
   "id": "f1107f33-a82b-42d3-87e9-56c2d19fee6c",
   "metadata": {},
   "outputs": [],
   "source": [
    "df.iloc[1] # Row by integer position\n",
    "df.iloc[1:5, 0:2] # Slice of rows and columns \n",
    "df.iloc[:, 2] # All rows, single column"
   ]
  },
  {
   "cell_type": "markdown",
   "id": "7c2afe64-5311-4edb-a748-489102c4cbdb",
   "metadata": {},
   "source": [
    "#### Boolean Masking\n",
    "\n",
    "Select rows where boolean condition is met:"
   ]
  },
  {
   "cell_type": "code",
   "execution_count": null,
   "id": "ba180656-167f-486d-b9fd-cc0857ef1f47",
   "metadata": {},
   "outputs": [],
   "source": [
    "df[df['A'] > 0] # Rows where column A is positive"
   ]
  },
  {
   "cell_type": "code",
   "execution_count": null,
   "id": "f26cbf35-97c1-4687-93c0-4e18b7b9d62c",
   "metadata": {
    "tags": []
   },
   "outputs": [],
   "source": [
    "df_world[df_world['Fertility Rate'] > 2][['Country','Fertility Rate']]"
   ]
  },
  {
   "cell_type": "code",
   "execution_count": null,
   "id": "972e6826-d7ab-4478-915c-043abd2377cd",
   "metadata": {},
   "outputs": [],
   "source": []
  }
 ],
 "metadata": {
  "kernelspec": {
   "display_name": "Python 3 (ipykernel)",
   "language": "python",
   "name": "python3"
  },
  "language_info": {
   "codemirror_mode": {
    "name": "ipython",
    "version": 3
   },
   "file_extension": ".py",
   "mimetype": "text/x-python",
   "name": "python",
   "nbconvert_exporter": "python",
   "pygments_lexer": "ipython3",
   "version": "3.11.3"
  }
 },
 "nbformat": 4,
 "nbformat_minor": 5
}
