{
 "cells": [
  {
   "cell_type": "markdown",
   "id": "f015468f-962c-4985-8ec7-5222c84e8292",
   "metadata": {},
   "source": [
    "<a href=\"https://colab.research.google.com/github/hewp84/CRT420/blob/main/Pandas_Intro.ipynb\" target=\"_parent\"><img src=\"https://colab.research.google.com/assets/colab-badge.svg\" alt=\"Open In Colab\"/></a>"
   ]
  },
  {
   "cell_type": "markdown",
   "id": "85eb27ac-1c63-4743-97fc-98474d05adcb",
   "metadata": {},
   "source": [
    "# PANDAS\n",
    "## Introduction\n",
    "Pandas is a popular Python library that provides powerful data structures and functions designed specifically for data analysis workflows. The name \"Pandas\" actually comes from the term \"panel data\", representing multidimensional data.\n"
   ]
  },
  {
   "cell_type": "markdown",
   "id": "9abc22c2-82e0-45e3-b774-cf53e02c2c6c",
   "metadata": {},
   "source": [
    "## Data Structures\n",
    "\n",
    "The two most important data structures in Pandas are:\n",
    "\n",
    "* Series: A Series is a one-dimensional array-like object that can hold many different data types like integers, strings, booleans, etc. What makes a Series unique is that it has an index which assigns a label to each value. The index makes it easier to access, query, and analyze data in the Series. For example, you can use label-based indexing to slice and dice a Series, similar to how you interact with columns in a spreadsheet.\n",
    "\n",
    "* DataFrame: A DataFrame is a two-dimensional tabular data structure with labeled rows and columns, akin to a spreadsheet, SQL table, or R data frame. It builds on the Series concept by essentially storing a number of Series objects aligned along an index. This enables complex multivariant, relational data analysis. DataFrames have powerful capabilities like easily handling missing data, merging datasets, pivoting data, and more.\n",
    "\n",
    "Pandas combines these versatile data structures with numerous functions and methods designed to make many aspects of the typical data analysis workflow fast, efficient, and productive in Python. It excels at tasks like loading, cleaning, transforming, merging, reshaping, and visualizing data."
   ]
  },
  {
   "cell_type": "markdown",
   "id": "3c17a626-1066-4180-925d-134883a0764e",
   "metadata": {},
   "source": [
    "### Series\n",
    "\n",
    "* A Pandas Series is a one-dimensional array-like data structure that can hold values of different data types such as integers, floats, strings, booleans, etc.\n",
    "* It has an index which labels each value, like columns in a spreadsheet. This makes Series very useful for data analysis in Python.\n",
    "\n",
    "The basic method to create a `Series` is to call:\n",
    "\n",
    "`s = pd.Series(data, index=index)`\n",
    "#### Creating a Series"
   ]
  },
  {
   "cell_type": "code",
   "execution_count": 6,
   "id": "5e3ce59a-31f1-4d84-aade-26c4cef47a45",
   "metadata": {
    "tags": []
   },
   "outputs": [],
   "source": [
    "import pandas as pd\n",
    "\n",
    "# Create from list \n",
    "mylist = [1, 2, 3, 4]\n",
    "myseries1 = pd.Series(mylist)\n",
    "\n",
    "# Create from numpy array\n",
    "import numpy as np\n",
    "arr = np.array([1, 2, 3, 4])\n",
    "myseries2 = pd.Series(arr) \n",
    "\n",
    "# Create from dictionary \n",
    "mydict = {'a': 1, 'b': 2, 'c': 3} \n",
    "myseries3 = pd.Series(mydict)\n",
    "\n",
    "# Create from scalar value \n",
    "myseries4 = pd.Series(5, index=[0, 1, 2, 3])"
   ]
  },
  {
   "cell_type": "code",
   "execution_count": 10,
   "id": "130ae20d-739b-4c33-81f2-3a1763eb1dfe",
   "metadata": {
    "tags": []
   },
   "outputs": [
    {
     "name": "stdout",
     "output_type": "stream",
     "text": [
      "0    1\n",
      "1    2\n",
      "2    3\n",
      "3    4\n",
      "dtype: int64\n",
      "0    1\n",
      "1    2\n",
      "2    3\n",
      "3    4\n",
      "dtype: int32\n",
      "a    1\n",
      "b    2\n",
      "c    3\n",
      "dtype: int64\n",
      "0    5\n",
      "1    5\n",
      "2    5\n",
      "3    5\n",
      "dtype: int64\n"
     ]
    }
   ],
   "source": [
    "print(myseries1)\n",
    "print(myseries2)\n",
    "print(myseries3)\n",
    "print(myseries4)\n"
   ]
  },
  {
   "cell_type": "markdown",
   "id": "7089edf8-b442-4716-8017-993d781f85e8",
   "metadata": {},
   "source": [
    "#### Series Attributes"
   ]
  },
  {
   "cell_type": "code",
   "execution_count": 13,
   "id": "17397dde-f634-4621-85c5-c90f8ab873b8",
   "metadata": {
    "tags": []
   },
   "outputs": [
    {
     "name": "stdout",
     "output_type": "stream",
     "text": [
      "[5 5 5 5]\n",
      "Int64Index([0, 1, 2, 3], dtype='int64')\n",
      "int64\n",
      "None\n",
      "(4,)\n"
     ]
    }
   ],
   "source": [
    "print(myseries4.values) # The actual data values \n",
    "print(myseries4.index) # The index for each value\n",
    "print(myseries4.dtype) # The data type (int, float, object) \n",
    "print(myseries4.name) # Name of the Series \n",
    "print(myseries4.shape) # Number of elements"
   ]
  },
  {
   "cell_type": "markdown",
   "id": "75ddab63-91cd-41cf-a076-94039ba113ea",
   "metadata": {},
   "source": [
    "#### Accessing elements"
   ]
  },
  {
   "cell_type": "code",
   "execution_count": 16,
   "id": "5b2a4b66-3c5e-49c3-a8c2-d134c556d407",
   "metadata": {
    "tags": []
   },
   "outputs": [
    {
     "name": "stdout",
     "output_type": "stream",
     "text": [
      "2\n"
     ]
    }
   ],
   "source": [
    "#print(myseries1['a']) \n",
    "print(myseries1[1])"
   ]
  },
  {
   "cell_type": "markdown",
   "id": "22019a8a-5f4e-4eed-a803-2646974e51e6",
   "metadata": {},
   "source": [
    "#### Operations with Series"
   ]
  },
  {
   "cell_type": "code",
   "execution_count": 19,
   "id": "d10a484f-d89b-4c9d-8eb3-9989d6e4110e",
   "metadata": {
    "tags": []
   },
   "outputs": [
    {
     "name": "stdout",
     "output_type": "stream",
     "text": [
      "0    2\n",
      "1    4\n",
      "2    6\n",
      "3    8\n",
      "dtype: int64\n"
     ]
    }
   ],
   "source": [
    "doubled = myseries1 * 2 # Arithmetic\n",
    "filtered = myseries1[myseries1 > 2] # Filtering \n",
    "sorted1 = myseries1.sort_values() # Sorting\n",
    "total = myseries1.sum() # Aggregation\n",
    "\n",
    "print(doubled)"
   ]
  },
  {
   "cell_type": "code",
   "execution_count": null,
   "id": "c040c9cd-730f-4c90-881b-0d0ee734fa63",
   "metadata": {},
   "outputs": [],
   "source": []
  }
 ],
 "metadata": {
  "kernelspec": {
   "display_name": "Python 3 (ipykernel)",
   "language": "python",
   "name": "python3"
  },
  "language_info": {
   "codemirror_mode": {
    "name": "ipython",
    "version": 3
   },
   "file_extension": ".py",
   "mimetype": "text/x-python",
   "name": "python",
   "nbconvert_exporter": "python",
   "pygments_lexer": "ipython3",
   "version": "3.11.3"
  }
 },
 "nbformat": 4,
 "nbformat_minor": 5
}
