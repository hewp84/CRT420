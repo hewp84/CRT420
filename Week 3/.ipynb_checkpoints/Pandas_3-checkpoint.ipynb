{
 "cells": [
  {
   "cell_type": "markdown",
   "id": "5b731988-1e77-4c68-920e-facf8f8ff408",
   "metadata": {},
   "source": [
    "<a href=\"https://colab.research.google.com/github/hewp84/CRT420/blob/main/Pandas_3.ipynb\" target=\"_parent\"><img src=\"https://colab.research.google.com/assets/colab-badge.svg\" alt=\"Open In Colab\"/></a>"
   ]
  },
  {
   "cell_type": "markdown",
   "id": "bd304b7c-fff8-4caa-bebe-d2b0305f6685",
   "metadata": {},
   "source": [
    "# PANDAS: Merge, Concatenate, and Join"
   ]
  },
  {
   "cell_type": "markdown",
   "id": "b27192cf-c3c5-437b-90b4-476b64060085",
   "metadata": {},
   "source": [
    "## Concatenate\n",
    "\n",
    "The `concat` method in pandas is used to concatenate (combine) pandas objects like Series and DataFrames along a particular axis (either rows or columns). It is particularly useful when you have multiple data sources and you want to combine them into a single DataFrame.\n",
    "\n",
    "Properties of the concat method:\n",
    "\n",
    "* Concatenation can be done along either the rows (axis 0) or columns (axis 1).\n",
    "* It can handle concatenating multiple DataFrames at once.\n",
    "* It can handle both inner and outer joins."
   ]
  },
  {
   "cell_type": "code",
   "execution_count": null,
   "id": "7ed9b700-33ba-46a9-83f3-ad7969f40c71",
   "metadata": {},
   "outputs": [],
   "source": [
    "pandas.concat(objs, axis=0, join='outer', ignore_index=False)"
   ]
  },
  {
   "cell_type": "markdown",
   "id": "20cf966e-16fb-4c32-9f27-415d71054325",
   "metadata": {},
   "source": [
    "#### Attributes:\n",
    "\n",
    "* objs: A sequence of pandas objects (e.g., DataFrames or Series) that you want to concatenate.\n",
    "* axis: The axis along which the concatenation will be performed (0 for rows, 1 for columns).\n",
    "* join: Type of join to be performed ('inner', 'outer', 'left', 'right').\n",
    "* ignore_index: If True, the resulting DataFrame will have a new index; if False (default), indexes from the original objects will be preserved.\n",
    "\n",
    "#### Key Parameters:\n",
    "\n",
    "* objs: A sequence of pandas objects to concatenate.\n",
    "* axis: Determines whether to concatenate along rows (0) or columns (1).\n",
    "* join: Specifies the type of join to perform, which could be 'inner', 'outer', 'left', or 'right'.\n",
    "* ignore_index: If set to True, the resulting DataFrame will have a new index.\n",
    "\n",
    "Examples:\n",
    "\n",
    "Let's consider two dictionaries representing DataFrames as examples:"
   ]
  },
  {
   "cell_type": "code",
   "execution_count": null,
   "id": "f7b58d02-d85e-4156-b9d1-60b540780926",
   "metadata": {
    "tags": []
   },
   "outputs": [],
   "source": [
    "import pandas as pd\n",
    "\n",
    "data1 = {'A': [1, 2, 3],\n",
    "         'B': [4, 5, 6],\n",
    "         'C': [7, 8, 9],\n",
    "         'D': [10, 11, 12]}\n",
    "\n",
    "data2 = {'A': [13, 14, 15],\n",
    "         'B': [16, 17, 18],\n",
    "         'C': [19, 20, 21],\n",
    "         'D': [22, 23, 24]}\n",
    "         \n",
    "df1 = pd.DataFrame(data1)\n",
    "df2 = pd.DataFrame(data2)\n",
    "df1"
   ]
  },
  {
   "cell_type": "markdown",
   "id": "ca65b537-3a06-48b6-b2b5-b0ae9e90575a",
   "metadata": {},
   "source": [
    "Example 1: Concatenating along rows (axis=0) with the same columns:"
   ]
  },
  {
   "cell_type": "code",
   "execution_count": null,
   "id": "1b55fe31-9768-4cea-9467-ba2ed78dedf5",
   "metadata": {
    "tags": []
   },
   "outputs": [],
   "source": [
    "result = pd.concat([df1, df2])\n",
    "result\n"
   ]
  },
  {
   "cell_type": "markdown",
   "id": "b9b12159-18ea-4353-900f-10373eac3f27",
   "metadata": {},
   "source": [
    "Example 2: Concatenating along columns (axis=1):"
   ]
  },
  {
   "cell_type": "code",
   "execution_count": null,
   "id": "a5386bea-ca11-4db7-8424-6062bbeed3f0",
   "metadata": {
    "tags": []
   },
   "outputs": [],
   "source": [
    "result1 = pd.concat([df1, df2], axis=1)\n",
    "result1\n"
   ]
  },
  {
   "cell_type": "markdown",
   "id": "835a4eec-2ecc-4273-a3c7-75b860cca117",
   "metadata": {},
   "source": [
    "Example 3: Ignoring original indices and resetting index:"
   ]
  },
  {
   "cell_type": "code",
   "execution_count": null,
   "id": "ee6917ae-e18e-40af-aed4-bd7fd4f65949",
   "metadata": {
    "tags": []
   },
   "outputs": [],
   "source": [
    "result2 = pd.concat([df1, df2], ignore_index=True)\n",
    "result2\n"
   ]
  },
  {
   "cell_type": "markdown",
   "id": "d8ac311b-0eab-4a31-b0af-8075b1864cbf",
   "metadata": {
    "tags": []
   },
   "source": [
    "Example 4: Performing different joins:"
   ]
  },
  {
   "cell_type": "code",
   "execution_count": null,
   "id": "ef04ef79-7961-447d-b2b2-b883ab500d5d",
   "metadata": {
    "tags": []
   },
   "outputs": [],
   "source": [
    "result3 = pd.concat([df1, df2], join='outer')\n",
    "result3\n"
   ]
  },
  {
   "cell_type": "markdown",
   "id": "b24fafa5-b749-4719-8bfd-d05fe818efd4",
   "metadata": {},
   "source": [
    "## Merge method\n",
    "\n",
    "The merge method in pandas is used to combine two or more DataFrames based on common columns or indexes. It's similar to joining tables in SQL. The method performs database-style joins, allowing you to combine datasets using various types of joins.\n",
    "\n",
    "#### Properties of the merge method:\n",
    "\n",
    "* Merging can be performed on one or more columns, and it's based on common values.\n",
    "* Different types of joins like inner, outer, left, and right can be used.\n",
    "* The merge method allows you to handle duplicate columns that might arise from merging.\n",
    "\n",
    "#### Syntax:"
   ]
  },
  {
   "cell_type": "code",
   "execution_count": null,
   "id": "d0fe3102-22ac-4d8c-beb4-afb8378fc65d",
   "metadata": {},
   "outputs": [],
   "source": [
    "pandas.merge(left, right, on=None, how='inner',)\n"
   ]
  },
  {
   "cell_type": "markdown",
   "id": "85f3470a-5ecf-4420-923d-4041e2822ce5",
   "metadata": {
    "tags": []
   },
   "source": [
    "Attributes:\n",
    "\n",
    "* left: The left DataFrame to be merged.\n",
    "* right: The right DataFrame to be merged.\n",
    "* on: The column(s) or index(es) to merge on.\n",
    "* how: The type of join to perform ('inner', 'outer', 'left', 'right').\n",
    "\n",
    "Examples:\n"
   ]
  },
  {
   "cell_type": "code",
   "execution_count": null,
   "id": "01be41a0-f1aa-42dd-91e2-5fef75eede68",
   "metadata": {
    "tags": []
   },
   "outputs": [],
   "source": [
    "import pandas as pd\n",
    "\n",
    "data1 = {'ID': [1, 2, 3, 4],\n",
    "         'Name': ['Alice', 'Bob', 'Charlie', 'David']}\n",
    "\n",
    "data2 = {'ID': [3, 4, 5, 6],\n",
    "         'Age': [25, 32, 28, 40]}\n",
    "\n",
    "df1 = pd.DataFrame(data1)\n",
    "df2 = pd.DataFrame(data2)\n"
   ]
  },
  {
   "cell_type": "code",
   "execution_count": null,
   "id": "83e2df54-f5e3-4cdc-a35f-8888f2c73d71",
   "metadata": {
    "tags": []
   },
   "outputs": [],
   "source": [
    "# Example 1: Different Joins on a Common Column:\n",
    "\n",
    "result_join = pd.merge(df1, df2, on='ID', how='inner')\n",
    "result_join"
   ]
  },
  {
   "cell_type": "code",
   "execution_count": null,
   "id": "e3a7fd32-7457-4b17-8e4b-196df8e10804",
   "metadata": {
    "tags": []
   },
   "outputs": [],
   "source": [
    "#Example 2\n",
    "data3 = {'EmpID': [2, 3, 4, 7],\n",
    "         'Salary': [60000, 75000, 80000, 50000]}\n",
    "\n",
    "df3 = pd.DataFrame(data3)\n",
    "\n",
    "result_left = pd.merge(df1, df3, left_on='ID', right_on='EmpID', how='left')\n",
    "result_left\n"
   ]
  },
  {
   "cell_type": "code",
   "execution_count": null,
   "id": "47756737-d7be-44f2-94e2-26874c6d4964",
   "metadata": {
    "tags": []
   },
   "outputs": [],
   "source": [
    "# Example 3\n",
    "df1 = df1.set_index('ID')\n",
    "df2 = df2.set_index('ID')\n",
    "\n",
    "result_outer = pd.merge(df1, df2, left_index=True, right_index=True, how='outer')\n",
    "print(result_outer)\n"
   ]
  },
  {
   "cell_type": "code",
   "execution_count": null,
   "id": "88cb483a-1450-4619-9f0b-92c6378c0372",
   "metadata": {
    "tags": []
   },
   "outputs": [],
   "source": [
    "#Example 4\n",
    "data4 = {'ID': [1, 2, 3, 4],\n",
    "         'Name': ['Eve', 'Frank', 'Grace', 'Henry']}\n",
    "\n",
    "df4 = pd.DataFrame(data4)\n",
    "\n",
    "result_suffix = pd.merge(df1, df4, on='ID', how='inner', suffixes=('_left', '_right'))\n",
    "result_suffix\n"
   ]
  },
  {
   "cell_type": "markdown",
   "id": "9a3f0762-1cdb-424a-afb0-17af4f80f3b1",
   "metadata": {},
   "source": [
    "## Join Method\n",
    "\n",
    "The join() method allows you to join DataFrames together based on an index or column in each DataFrame. It is different from concat() in that it uses the indexes/columns rather than just concatenating. It is different from merge() in that you must specify the index/column to join on rather than merge() allowing specification of multiple join keys.\n",
    "\n",
    "#### Properties:\n",
    "\n",
    "* Joins DataFrames together based on specified index or column names\n",
    "* Result will contain union of indexes/columns from both DataFrames\n",
    "* Can specify how='left', 'right', 'outer' to control join behavior\n",
    "* Preserves indexes/columns not used in the join\n",
    "\n",
    "#### Syntax:"
   ]
  },
  {
   "cell_type": "code",
   "execution_count": null,
   "id": "a13de427-7a1d-4568-ad45-487244aab0bd",
   "metadata": {},
   "outputs": [],
   "source": [
    "df1.join(df2, how='left', on=None, lsuffix='', rsuffix='')"
   ]
  },
  {
   "cell_type": "markdown",
   "id": "540ada1d-3d17-4a38-ba9a-cc5a9e14e4da",
   "metadata": {},
   "source": [
    "Examples: "
   ]
  },
  {
   "cell_type": "code",
   "execution_count": null,
   "id": "2b22b1de-868c-4cb6-b6e7-f5df7a9e7282",
   "metadata": {
    "tags": []
   },
   "outputs": [],
   "source": [
    "df1 = pd.DataFrame({'A': [1, 2], 'B': [3, 4]}, index=[1, 2])\n",
    "df2 = pd.DataFrame({'C': [5, 6]}, index=[1, 2])\n",
    "\n",
    "df1.join(df2)"
   ]
  },
  {
   "cell_type": "markdown",
   "id": "847569e3-a4e3-41e1-ac3e-afea89fa5da4",
   "metadata": {},
   "source": [
    "### Additional examples using World data set"
   ]
  },
  {
   "cell_type": "code",
   "execution_count": null,
   "id": "80f89068-73bb-48a5-b619-36d180ae294f",
   "metadata": {
    "tags": []
   },
   "outputs": [],
   "source": [
    "data = pd.read_csv('world-data-2023.csv')\n",
    "df1 = data[['Country', 'Population']].head(3)\n",
    "df2 = data[['Country','Land Area(Km2)']].head(3)\n",
    "\n",
    "pd.concat([df1, df2], axis=0)"
   ]
  },
  {
   "cell_type": "code",
   "execution_count": null,
   "id": "f5eb2b9d-bb6b-4eca-b8ec-df5069378f66",
   "metadata": {
    "tags": []
   },
   "outputs": [],
   "source": [
    "df3 = data[['Country','Population']].head(3)\n",
    "df4 = data[['Country','Birth Rate']].head(3)\n",
    "\n",
    "pd.merge(df3, df4, on='Country')"
   ]
  },
  {
   "cell_type": "code",
   "execution_count": null,
   "id": "0a6cfd90-6527-4b6c-9a89-2717e8e7cfc5",
   "metadata": {
    "tags": []
   },
   "outputs": [],
   "source": [
    "# Set index to Country and select Population column\n",
    "df5 = data.set_index('Country')[['Population']].head(3)  \n",
    "\n",
    "# Select Land Area column \n",
    "df6 = data[['Land Area(Km2)']].head(3) \n",
    "\n",
    "# Join on index \n",
    "df5.join(df6)"
   ]
  },
  {
   "cell_type": "code",
   "execution_count": null,
   "id": "7af8e094-df50-42f6-92f7-ae7a06cd7240",
   "metadata": {},
   "outputs": [],
   "source": []
  }
 ],
 "metadata": {
  "kernelspec": {
   "display_name": "Python 3 (ipykernel)",
   "language": "python",
   "name": "python3"
  },
  "language_info": {
   "codemirror_mode": {
    "name": "ipython",
    "version": 3
   },
   "file_extension": ".py",
   "mimetype": "text/x-python",
   "name": "python",
   "nbconvert_exporter": "python",
   "pygments_lexer": "ipython3",
   "version": "3.11.3"
  }
 },
 "nbformat": 4,
 "nbformat_minor": 5
}
