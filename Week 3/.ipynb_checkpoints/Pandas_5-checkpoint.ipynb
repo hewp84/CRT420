{
 "cells": [
  {
   "cell_type": "markdown",
   "id": "fa3dcd95-31c9-4ced-af95-3106af9000bf",
   "metadata": {},
   "source": [
    "<a href=\"https://colab.research.google.com/github/hewp84/CRT420/blob/main/Pandas_5.ipynb\" target=\"_parent\"><img src=\"https://colab.research.google.com/assets/colab-badge.svg\" alt=\"Open In Colab\"/></a>"
   ]
  },
  {
   "cell_type": "markdown",
   "id": "f3ac252e-89b0-4b81-a170-b405bd78935e",
   "metadata": {},
   "source": [
    "# PANDAS: Grouping & Reshaping"
   ]
  },
  {
   "cell_type": "markdown",
   "id": "5e95affb-be1d-4a89-9af0-b0358c38706f",
   "metadata": {},
   "source": [
    "## Grouping\n",
    "\n",
    "Grouping is a fundamental operation that allows us to split our data into groups based on specific criteria, and then perform operations on each group separately. "
   ]
  },
  {
   "cell_type": "markdown",
   "id": "85169666-ddb6-4205-9ea4-3b0d8b73d737",
   "metadata": {},
   "source": [
    "**Syntax:**\n",
    "\n",
    "`df.groupby(by=None, axis=0, level=None, as_index=True, sort=True, group_keys=True, squeeze=<no_default>, observed=False, dropna=True)`\n",
    "\n",
    "**Parameters:**\n",
    "\n",
    "* by : Mapping, function, str, or iterable to group by. Column name/s or index level/s to group.\n",
    "* axis : Axis to group over. 0 for rows and 1 for columns. Default is 0.\n",
    "* level : Level of MultiIndex to group.\n",
    "* as_index : Group by index if True, else by values. Default is True.\n",
    "* sort : Sort groups if True. Default is True.\n",
    "* group_keys : Add group keys to index. Default is True.\n",
    "* squeeze : Return NumPy value if possible.\n",
    "* observed : Use only observed values.\n",
    "* dropna : Don't include NaN values. Default is True.\n",
    "\n",
    "**Returns:**\n",
    "\n",
    "A groupby object that contains information about the groups."
   ]
  },
  {
   "cell_type": "code",
   "execution_count": null,
   "id": "499e8674-f50c-42b0-a40b-4255aaee0274",
   "metadata": {
    "tags": []
   },
   "outputs": [],
   "source": [
    "# Import necessary libraries\n",
    "import pandas as pd\n",
    "\n",
    "# Create a sample DataFrame\n",
    "data = {\n",
    "    'Category': ['A', 'B', 'A', 'B', 'A', 'B'],\n",
    "    'Value': [10, 15, 20, 25, 30, 35]\n",
    "}\n",
    "\n",
    "df = pd.DataFrame(data)\n",
    "\n",
    "# Display the DataFrame\n",
    "df\n"
   ]
  },
  {
   "cell_type": "markdown",
   "id": "2f48c51b-0e07-4af7-a841-10c0edc24e7f",
   "metadata": {},
   "source": [
    "To group data in Pandas, we can use the `groupby()` method, which is often followed by an aggregation operation. Let's start by grouping our sample DataFrame `df` by the 'Category' column.\n"
   ]
  },
  {
   "cell_type": "code",
   "execution_count": null,
   "id": "15e78a54-d31e-42e4-ad5c-40e9a9b0552a",
   "metadata": {
    "tags": []
   },
   "outputs": [],
   "source": [
    "# Group the DataFrame by 'Category'\n",
    "grouped = df.groupby(by='Category')\n",
    "\n",
    "# Display the grouped object\n",
    "grouped"
   ]
  },
  {
   "cell_type": "code",
   "execution_count": null,
   "id": "f395f629-7c86-402d-9038-3f4378932e4b",
   "metadata": {
    "tags": []
   },
   "outputs": [],
   "source": [
    "# Calculate the mean value for each group\n",
    "grouped_mean = grouped.mean()\n",
    "\n",
    "# Display the mean values\n",
    "grouped_mean\n"
   ]
  },
  {
   "cell_type": "code",
   "execution_count": null,
   "id": "6d37ed27-3d51-46c4-ae6d-35878c3094b1",
   "metadata": {},
   "outputs": [],
   "source": [
    "#Try alternative mathematical methods such as sum, mean, etc\n"
   ]
  },
  {
   "cell_type": "markdown",
   "id": "366ed989-03bb-4f52-93e5-bb6ff7168c60",
   "metadata": {},
   "source": [
    "#### Aggregation\n",
    "\n",
    "We can also iterate through the groups and perform custom operations on each group. Let's print the groups and their corresponding data:"
   ]
  },
  {
   "cell_type": "code",
   "execution_count": null,
   "id": "aa88db1c-23dd-4359-b7d2-2c9ba76d57fb",
   "metadata": {
    "tags": []
   },
   "outputs": [],
   "source": [
    "# Iterate through groups and print the group name and data\n",
    "for name, group in grouped:\n",
    "    print(f\"Group: {name}\")\n",
    "    print(group)\n",
    "    print()\n"
   ]
  },
  {
   "cell_type": "markdown",
   "id": "3de4ef3b-3b71-4f5d-a141-a4da3e400de4",
   "metadata": {},
   "source": [
    "#### Applying Multiple Aggregations\n",
    "\n",
    "Pandas allows us to apply multiple aggregation functions at once using the `agg()` method. Let's calculate both the mean and sum for each group."
   ]
  },
  {
   "cell_type": "code",
   "execution_count": null,
   "id": "8f4b86d6-7603-4c51-89b0-702be6b62d79",
   "metadata": {
    "tags": []
   },
   "outputs": [],
   "source": [
    "# Calculate both mean and sum for each group\n",
    "grouped_agg = grouped['Value'].agg(['mean', 'sum'])\n",
    "\n",
    "# Display the aggregated results\n",
    "grouped_agg\n"
   ]
  },
  {
   "cell_type": "markdown",
   "id": "74909710-3f74-44aa-ad45-186f16f369b0",
   "metadata": {},
   "source": [
    "#### Custom Aggregation Functions\n",
    "\n",
    "You can define custom aggregation functions to apply to groups. Let's create a custom function to calculate the range for each group."
   ]
  },
  {
   "cell_type": "code",
   "execution_count": null,
   "id": "a1283106-b01a-455f-b9cd-ef57debf2e92",
   "metadata": {
    "tags": []
   },
   "outputs": [],
   "source": [
    "# Custom aggregation function to calculate the range\n",
    "def custom_range(x):\n",
    "    return x.max()-x.min()\n",
    "\n",
    "# Apply the custom aggregation function\n",
    "range_result = grouped['Value'].agg(custom_range)\n",
    "\n",
    "# Display the range for each group\n",
    "range_result\n"
   ]
  },
  {
   "cell_type": "markdown",
   "id": "9178b0ee-cb0f-4568-ab9e-91e69ea8e5f2",
   "metadata": {},
   "source": [
    "#### Real life dataset: ATP Tour 2013-2023"
   ]
  },
  {
   "cell_type": "code",
   "execution_count": null,
   "id": "0e7cce7f-57ad-43a4-83a4-c091cdcd4500",
   "metadata": {
    "tags": []
   },
   "outputs": [],
   "source": [
    "atp = pd.read_csv('atp_tennis.csv')\n",
    "atp"
   ]
  },
  {
   "cell_type": "code",
   "execution_count": null,
   "id": "3b735142-2644-4aee-846a-5e3e49743dc4",
   "metadata": {
    "tags": []
   },
   "outputs": [],
   "source": [
    "#Filtering only for Hard surface data\n",
    "hard = atp[atp['Surface'] == 'Hard']\n",
    "hard"
   ]
  },
  {
   "cell_type": "markdown",
   "id": "e4492d10-2bf6-41b1-b6b7-92b9bcb3d033",
   "metadata": {},
   "source": [
    "What is the lowest ranked player competing in each round of the ATP Tour Hard Surface?"
   ]
  },
  {
   "cell_type": "code",
   "execution_count": null,
   "id": "ab2508c1-a8df-4e58-8a2b-9e37ecebec75",
   "metadata": {
    "tags": []
   },
   "outputs": [],
   "source": [
    "r_atp = hard.groupby('Round')\n",
    "# Use a dictionary to specify aggregation functions for each column\n",
    "agg_dict = {\n",
    "    'Rank_1': ['max', 'min'],\n",
    "    'Rank_2': ['max', 'min']\n",
    "}\n",
    "\n",
    "# Apply .agg() using the dictionary\n",
    "atp_agg = r_atp.agg(agg_dict)\n",
    "atp_agg.rename(columns={'Rank_1': 'Rank 1'}, inplace=True)\n",
    "#rename for all other columns\n",
    "\n",
    "# Display the aggregated DataFrame\n",
    "atp_agg"
   ]
  },
  {
   "cell_type": "markdown",
   "id": "76289785-33e5-4a0e-8bd0-0040087d290d",
   "metadata": {},
   "source": [
    "## Reshaping"
   ]
  },
  {
   "cell_type": "markdown",
   "id": "8421c5bd-2e3d-42f7-b1d7-bae57a3d352c",
   "metadata": {},
   "source": [
    "### Pandas Pivot and Pivot Table\n",
    "Pandas provides pivot() and pivot_table() functions to reshape data into a summarized table for analysis. Let's explore how to use these functions with some examples.\n",
    "\n",
    "#### Pivot\n",
    "The pivot() function is used to reshape a DataFrame by converting column values into index values."
   ]
  },
  {
   "cell_type": "markdown",
   "id": "ba4e0f61-7a4b-4ec8-bc67-c1d14c5ca4e2",
   "metadata": {},
   "source": [
    "**Syntax:**\n",
    "\n",
    "`df.pivot(index=None, columns=None, values=None)`\n",
    "\n",
    "**Parameters:**\n",
    "\n",
    "* index - Column to use as the row index.\n",
    "* columns - Column to use as the column index.\n",
    "* values - Column to aggregate.\n",
    "\n",
    "**Returns:**\n",
    "\n",
    "Pivoted dataframe."
   ]
  },
  {
   "cell_type": "code",
   "execution_count": null,
   "id": "3c88003c-c949-4139-a8a3-304ce6378d3c",
   "metadata": {
    "tags": []
   },
   "outputs": [],
   "source": [
    "import pandas as pd\n",
    "\n",
    "data = {'Brand': ['Toyota','Honda','Toyota','Ford','Honda','Toyota'], \n",
    "        'Model': ['Corolla','Civic','Camry','Focus','Accord','Prius'],\n",
    "        'Year': [2018,2019,2020,2018,2019,2021],\n",
    "        'Price': [20000,22000,25000,21000,24000,28000],\n",
    "        'Kilometers':[30000,27000,20000,26000,25000,19000]}\n",
    "\n",
    "df = pd.DataFrame(data)\n",
    "df"
   ]
  },
  {
   "cell_type": "markdown",
   "id": "9149eb40-1f9c-44a8-ad56-6f71be909ff5",
   "metadata": {},
   "source": [
    "Now we can pivot the DataFrame with 'Brand' as the index, 'Model' as the columns, and 'Price' as the values:"
   ]
  },
  {
   "cell_type": "code",
   "execution_count": null,
   "id": "34ce191b-15b1-4f86-895c-90c8427d93e1",
   "metadata": {
    "tags": []
   },
   "outputs": [],
   "source": [
    "df1 = df.pivot(index='Brand', columns='Model', values='Price')\n",
    "#df1.fillna('', inplace=True)\n",
    "df1"
   ]
  },
  {
   "cell_type": "markdown",
   "id": "222a2e14-2416-4318-96f7-344dac7b2a20",
   "metadata": {
    "tags": []
   },
   "source": [
    "#### Pivot Table\n",
    "The pivot_table() function is similar to pivot() but provides more flexibility in calculating and aggregating data in the reshaped table."
   ]
  },
  {
   "cell_type": "markdown",
   "id": "5f602097-c81a-41cf-a52c-a77954c77f12",
   "metadata": {},
   "source": [
    "**Syntax:**\n",
    "\n",
    "`pivot_table(values=None, index=None, columns=None, aggfunc='mean', fill_value=None, margins=False, dropna=True, margins_name='All')`\n",
    "\n",
    "**Parameters:**\n",
    "\n",
    "\n",
    "* values - Column to aggregate.\n",
    "* index - Column(s) to be index.\n",
    "* columns - Column(s) to be columns.\n",
    "* aggfunc - Aggregation function like 'mean', 'sum', 'count'. Default is 'mean'.\n",
    "* fill_value - Value to replace missing values with.\n",
    "* margins - Add all row/column aggregates if True.\n",
    "* dropna - Drop missing values. Default is True.\n",
    "* margins_name - Name prefix for margin columns.\n",
    "\n",
    "**Returns:**\n",
    "\n",
    "Pivoted dataframe."
   ]
  },
  {
   "cell_type": "code",
   "execution_count": null,
   "id": "0fb4a030-ceda-4a6c-a45b-cf37bae069a1",
   "metadata": {
    "tags": []
   },
   "outputs": [],
   "source": [
    "data = {'Brand': ['Toyota','Honda','Toyota','Ford','Honda','Toyota', 'Tesla', 'Toyota', 'Honda'], \n",
    "        'Model': ['Corolla','Civic','Camry','Focus','Accord','Prius', 'Model 3', 'RAV4', 'CR-V'],\n",
    "        'Year': [2018,2019,2020,2018,2019,2021, 2020, 2019, 2020],\n",
    "        'Price': [20000,22000,25000,21000,24000,28000, 50000, 28000, 27000],\n",
    "        'Kilometers':[30000,27000,20000,26000,25000,19000, 10000, 31000, 22000]}\n",
    "\n",
    "df = pd.DataFrame(data)\n",
    "df"
   ]
  },
  {
   "cell_type": "code",
   "execution_count": null,
   "id": "c5b57191-fe93-4c7f-96d9-2d2cd0c3c7d7",
   "metadata": {
    "tags": []
   },
   "outputs": [],
   "source": [
    "df.pivot_table(values='Price', index='Brand', columns='Model', aggfunc='mean')"
   ]
  },
  {
   "cell_type": "code",
   "execution_count": null,
   "id": "243fdf96-f4a5-4c57-b64a-5033d935937e",
   "metadata": {
    "tags": []
   },
   "outputs": [],
   "source": [
    "#Multiple aggregated values\n",
    "df.pivot_table(values=['Price', 'Kilometers'], index='Brand', columns='Model',aggfunc=['mean', 'max'])"
   ]
  },
  {
   "cell_type": "code",
   "execution_count": null,
   "id": "ed80e038-48fa-47b8-9e18-f1e9c9ab3b17",
   "metadata": {
    "tags": []
   },
   "outputs": [],
   "source": [
    "# Adding new columns\n",
    "df.pivot_table(values='Price', index='Brand', columns='Model', aggfunc='mean', margins=True)"
   ]
  },
  {
   "cell_type": "markdown",
   "id": "5562f98c-e207-4191-bd42-fd2bbf068e60",
   "metadata": {},
   "source": [
    "### Webscrapping OCU's sports statistics"
   ]
  },
  {
   "cell_type": "code",
   "execution_count": null,
   "id": "21f46bf0-97eb-47d6-9251-7d3ab90e0f32",
   "metadata": {
    "tags": []
   },
   "outputs": [],
   "source": [
    "# URL of the webpage containing the HTML table(s)\n",
    "url = 'https://gomightyoaks.com/sports/baseball/stats/2022'\n",
    "\n",
    "# Read the HTML tables from the webpage\n",
    "baseball = pd.read_html(url)\n",
    "\n",
    "# Depending on the webpage structure, there might be multiple tables\n",
    "# You can access each table using tables[index], where index is the index of the table you want to extract\n",
    "\n",
    "# For example, to extract the first table\n",
    "ocu = baseball[0]\n",
    "ocu"
   ]
  },
  {
   "cell_type": "code",
   "execution_count": null,
   "id": "f7bc9fb5-386d-462f-bbcd-e862e0838766",
   "metadata": {
    "tags": []
   },
   "outputs": [],
   "source": [
    "ocu.pivot_table(values='R', index='Opponent', columns='W/L', aggfunc='mean', margins=True)"
   ]
  },
  {
   "cell_type": "markdown",
   "id": "4127eca8-544a-4a5a-a875-f464ed13dae6",
   "metadata": {},
   "source": [
    "### Melt\n",
    "The melt() function in pandas is used to unpivot or reshape your data from wide to long format. This allows you to reduce the number of columns in your dataframe by \"melting\" multiple columns into a single column."
   ]
  },
  {
   "cell_type": "markdown",
   "id": "05190deb-c9d1-42c6-850d-217f975eede5",
   "metadata": {},
   "source": [
    "**Syntax**\n",
    "\n",
    "`df.melt(id_vars=None, value_vars=None, var_name=None, value_name='value', col_level=None)`\n",
    "\n",
    "**Parameters:**\n",
    "\n",
    "* id_vars : Column(s) to use as identifier variables.\n",
    "* value_vars : Column(s) to unpivot. If not specified, uses all columns that are not set as id_vars.\n",
    "* var_name : Name to use for the 'variable' column. Default is 'variable'.\n",
    "* value_name : Name to use for the 'value' column. Default is 'value'.\n",
    "* col_level : If columns are a MultiIndex then use this level to melt.\n",
    "\n",
    "**Returns:**\n",
    "\n",
    "Pivoted DataFrame in long format."
   ]
  },
  {
   "cell_type": "code",
   "execution_count": null,
   "id": "300adeb9-76a4-46e7-a3dc-80eb108f9363",
   "metadata": {
    "tags": []
   },
   "outputs": [],
   "source": [
    "cars = pd.DataFrame({'Car Model': ['Prius', 'CX-5', 'Tesla Model 3', 'Camry'],\n",
    "                  'MPG': [50, 25, 30, 28],\n",
    "                  'Horsepower': [120, 187, 258, 203], \n",
    "                  'Weight': [3000, 3500, 4079, 3300]})\n",
    "cars"
   ]
  },
  {
   "cell_type": "code",
   "execution_count": null,
   "id": "d3f37504-c58a-4b48-8036-a76acbf8a980",
   "metadata": {
    "tags": []
   },
   "outputs": [],
   "source": [
    "melted_df = cars.melt(id_vars='Car Model', \n",
    "                    value_vars=['MPG', 'Horsepower', 'Weight'])\n",
    "\n",
    "melted_df"
   ]
  },
  {
   "cell_type": "code",
   "execution_count": null,
   "id": "6c018ea3-2b8a-42f5-b924-38b3bd9ed0e4",
   "metadata": {
    "tags": []
   },
   "outputs": [],
   "source": [
    "#Renaming columns\n",
    "melted_df = cars.melt(id_vars='Car Model', \n",
    "                    value_vars=['MPG', 'Horsepower', 'Weight'],\n",
    "                    var_name='Measurement',\n",
    "                    value_name='Value')\n",
    "\n",
    "melted_df"
   ]
  },
  {
   "cell_type": "code",
   "execution_count": null,
   "id": "7cef8121-8473-46bb-8282-c9ccbf3b6ea4",
   "metadata": {},
   "outputs": [],
   "source": []
  }
 ],
 "metadata": {
  "kernelspec": {
   "display_name": "Python 3 (ipykernel)",
   "language": "python",
   "name": "python3"
  },
  "language_info": {
   "codemirror_mode": {
    "name": "ipython",
    "version": 3
   },
   "file_extension": ".py",
   "mimetype": "text/x-python",
   "name": "python",
   "nbconvert_exporter": "python",
   "pygments_lexer": "ipython3",
   "version": "3.11.3"
  }
 },
 "nbformat": 4,
 "nbformat_minor": 5
}
