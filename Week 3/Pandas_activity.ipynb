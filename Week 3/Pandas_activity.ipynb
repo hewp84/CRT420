{
 "cells": [
  {
   "cell_type": "markdown",
   "id": "874e9fa5-bfc5-4372-8465-6d902ccf5c07",
   "metadata": {},
   "source": [
    "# PANDAS: Classwork\n",
    "\n",
    "Use the world-data-2023.csv file to perform the following operations:"
   ]
  },
  {
   "cell_type": "markdown",
   "id": "18a2eeaf-66c3-4320-8642-c1a5ee13e126",
   "metadata": {},
   "source": [
    "1. Import pandas and read the CSV file into a DataFrame.\n",
    "2. Print the shape of the DataFrame to see the number of rows and columns. (df.shape)\n",
    "3. Print the column names and data types. (df.dtypes)\n",
    "4. Select the 'Country', 'Population', and 'GDP' columns and assign to a new DataFrame.\n",
    "5. Same as exercise 4, but select 8 columns under your discretion and assign to a another DataFrame.\n",
    "6. Convert all columns with numbers as integer or float columns.\n",
    "7. Filter for countries with a population greater than 100 million.\n",
    "8. Sort the DataFrame by GDP from largest to smallest.\n",
    "9. Find the mean GDP and population.\n",
    "10. Rename the columns 'Gross domestic product (GDP)' and 'People per square kilometer (P/Km2)'. # df.rename(columns={'new column': 'old column'}, \n",
    "          inplace=True)\n",
    "11. Add a new column called 'GDP Per Capita' that divides GDP by population.\n",
    "12. Add two columns by performing operations among numerical columns\n",
    "12. Save the modified DataFrame to a CSV file called 'countries_modified.csv'. # df.to_csv('new file.csv', index=False)"
   ]
  },
  {
   "cell_type": "code",
   "execution_count": null,
   "id": "f8b87e7b-75e6-4955-9300-10ffc9df5ea3",
   "metadata": {},
   "outputs": [],
   "source": []
  }
 ],
 "metadata": {
  "kernelspec": {
   "display_name": "Python 3 (ipykernel)",
   "language": "python",
   "name": "python3"
  },
  "language_info": {
   "codemirror_mode": {
    "name": "ipython",
    "version": 3
   },
   "file_extension": ".py",
   "mimetype": "text/x-python",
   "name": "python",
   "nbconvert_exporter": "python",
   "pygments_lexer": "ipython3",
   "version": "3.11.4"
  }
 },
 "nbformat": 4,
 "nbformat_minor": 5
}
