{
 "cells": [
  {
   "cell_type": "markdown",
   "id": "71b05e65-04be-4984-b204-f7775062484b",
   "metadata": {},
   "source": [
    "<a href=\"https://colab.research.google.com/github/hewp84/CRT420/blob/main/HW2.ipynb\" target=\"_parent\"><img src=\"https://colab.research.google.com/assets/colab-badge.svg\" alt=\"Open In Colab\"/></a>"
   ]
  },
  {
   "cell_type": "markdown",
   "id": "cfc967d7-792b-48b0-96d0-66e9ff857deb",
   "metadata": {},
   "source": [
    "# Homework 2: Exercises using Pandas part 1\n",
    "\n",
    "Solve the following exercises using PANDAS."
   ]
  },
  {
   "cell_type": "markdown",
   "id": "9c3cc1b2-1389-43f5-befa-a7a38d2ac0af",
   "metadata": {
    "tags": []
   },
   "source": [
    "For this homework assignment, you will be working with a dataset containing birth data with columns for year, month, date of month, day of week, and number of births.\n",
    "\n",
    "Please download the data from the following page: https://www.kaggle.com/datasets/ayessa/birthday\n",
    "Make sure to extract the csv file and attach it to your current JupyterLab environment.\n",
    "\n",
    "### Import pandas and read in the 'US_births_2000-2014_SSA.csv' dataset."
   ]
  },
  {
   "cell_type": "markdown",
   "id": "9c8b3df2-2ce3-4971-b56f-8cd210802534",
   "metadata": {},
   "source": [
    "## Exercises\n",
    "#### Data structures\n",
    "1. Print the first 5 rows of the DataFrame. What does the output look like?\n",
    "2. Print the column names of the DataFrame.\n",
    "3. Print the shape of the DataFrame - how many rows and columns are there?\n",
    "4. Print the data types for each column."
   ]
  },
  {
   "cell_type": "markdown",
   "id": "008786eb-7b9e-4b56-9ba1-bd963579bb97",
   "metadata": {},
   "source": [
    "#### Views and Describe\n",
    "\n",
    "5. Create a view of the DataFrame that only contains the 'year' and 'births' columns. Print the first 5 rows.\n",
    "6. Create a view that contains rows 10-25. Print the output.\n",
    "7. Use the .describe method to summarize numeric columns. In your own view, what interesting statistics did it provide?"
   ]
  },
  {
   "cell_type": "markdown",
   "id": "6674b9ad-443a-4ab9-8fa2-06a87e68b4af",
   "metadata": {},
   "source": [
    "#### Selection \n",
    "\n",
    "8. Create a DataFrame that only contains birth data for the years, 2019, 2020, and 2021.\n",
    "9. Filter the data to only include rows for months: 4, 5, 6, and 7.\n",
    "10. Get the mean number of births for each day of the week."
   ]
  },
  {
   "cell_type": "markdown",
   "id": "f19f08e3-f8e0-4f41-bd32-8a05c0b903a4",
   "metadata": {},
   "source": [
    "#### Analysis\n",
    "\n",
    "11. Using the dataframes of Exercise 8 and 9. Make an analysis using any tools you have learned through Pandas to compare births before, during and after the Covid19 pandemic. "
   ]
  },
  {
   "cell_type": "code",
   "execution_count": null,
   "id": "73ba86ee-63a0-42b3-9a44-3312c452590e",
   "metadata": {},
   "outputs": [],
   "source": []
  }
 ],
 "metadata": {
  "kernelspec": {
   "display_name": "Python 3 (ipykernel)",
   "language": "python",
   "name": "python3"
  },
  "language_info": {
   "codemirror_mode": {
    "name": "ipython",
    "version": 3
   },
   "file_extension": ".py",
   "mimetype": "text/x-python",
   "name": "python",
   "nbconvert_exporter": "python",
   "pygments_lexer": "ipython3",
   "version": "3.11.4"
  }
 },
 "nbformat": 4,
 "nbformat_minor": 5
}
