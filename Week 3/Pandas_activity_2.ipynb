{
 "cells": [
  {
   "cell_type": "markdown",
   "id": "111a1f21-68ac-4b84-a7b6-2f134401a3d2",
   "metadata": {},
   "source": [
    "<a href=\"https://colab.research.google.com/github/hewp84/CRT420/blob/main/Pandas_activity_2.ipynb\" target=\"_parent\"><img src=\"https://colab.research.google.com/assets/colab-badge.svg\" alt=\"Open In Colab\"/></a>"
   ]
  },
  {
   "cell_type": "markdown",
   "id": "ab2dece9-c1e7-4758-8bf1-b7cd2c1d4c86",
   "metadata": {},
   "source": [
    "# PANDAS: Activity 2\n",
    "\n",
    "Analyzing different datasets with elements in common."
   ]
  },
  {
   "cell_type": "code",
   "execution_count": null,
   "id": "182c5fe3-b6c1-48fb-a2bd-3f529d12eaf8",
   "metadata": {
    "tags": []
   },
   "outputs": [],
   "source": [
    "#Importing library\n",
    "import pandas as pd"
   ]
  },
  {
   "cell_type": "code",
   "execution_count": null,
   "id": "cdb391ae-308e-4aaf-82be-e17900e89136",
   "metadata": {
    "tags": []
   },
   "outputs": [],
   "source": [
    "#Uploading datasets using pandas\n",
    "participants = pd.read_csv('participants.csv')\n",
    "admitted = pd.read_csv('admitted.csv')\n",
    "admitted"
   ]
  },
  {
   "cell_type": "code",
   "execution_count": null,
   "id": "ec122cde-22fb-4181-9d1c-687ef10d9fd2",
   "metadata": {
    "tags": []
   },
   "outputs": [],
   "source": [
    "#Check dimensions\n",
    "print(participants.shape)\n",
    "print(admitted.shape)"
   ]
  },
  {
   "cell_type": "code",
   "execution_count": null,
   "id": "2a060b64-769f-4324-84e2-96b8c665712f",
   "metadata": {
    "tags": []
   },
   "outputs": [],
   "source": [
    "#Clean dataframe\n",
    "admitted = admitted.drop(admitted.columns[[5,6]], axis=1)\n",
    "admitted"
   ]
  },
  {
   "cell_type": "code",
   "execution_count": null,
   "id": "89f6d122-6209-4dcf-a217-facbd121e3cb",
   "metadata": {
    "tags": []
   },
   "outputs": [],
   "source": [
    "#Using Merge method to link both datasets\n",
    "df = pd.merge(participants, admitted, on='Application ID', how='right')\n",
    "df\n",
    "#Try different 'how' options and write your conclusions"
   ]
  },
  {
   "cell_type": "code",
   "execution_count": null,
   "id": "208b6e42-13c5-4ffd-b342-15f7f2000ce0",
   "metadata": {
    "tags": []
   },
   "outputs": [],
   "source": [
    "#Extract passport expiring year\n",
    "df['Year'] = df['Expiry Date'].str.slice(-4)\n",
    "df['Year']"
   ]
  },
  {
   "cell_type": "code",
   "execution_count": null,
   "id": "f9a65b44-643f-4219-90af-f1cbc98db86b",
   "metadata": {
    "tags": []
   },
   "outputs": [],
   "source": [
    "#Extract country from program using regex\n",
    "df['Country'] = df['Program'].str.extract(r'in ([A-Za-z\\s]+), ([A-Za-z\\s]+)$', expand=True)[1]\n",
    "df"
   ]
  },
  {
   "cell_type": "markdown",
   "id": "6870bc99-8e2c-47ff-a2bb-f4db1d191cae",
   "metadata": {},
   "source": [
    "### Exercises\n",
    "\n",
    "1. Create a dataframe with selected columns: Application ID, First name, Last name, Passport number, Country, email, phone number.\n",
    "2. Do a merge operation with world-data-2023 with the columns: Gross primary education enrollment %, Gross tertiary education enrollment %, minimum wage, unemployment rate.\n",
    "3. Use the describe method to check statistics."
   ]
  },
  {
   "cell_type": "code",
   "execution_count": null,
   "id": "da717cc5-ea3c-48f3-84c3-d3029345e103",
   "metadata": {},
   "outputs": [],
   "source": []
  }
 ],
 "metadata": {
  "kernelspec": {
   "display_name": "Python 3 (ipykernel)",
   "language": "python",
   "name": "python3"
  },
  "language_info": {
   "codemirror_mode": {
    "name": "ipython",
    "version": 3
   },
   "file_extension": ".py",
   "mimetype": "text/x-python",
   "name": "python",
   "nbconvert_exporter": "python",
   "pygments_lexer": "ipython3",
   "version": "3.11.3"
  }
 },
 "nbformat": 4,
 "nbformat_minor": 5
}
