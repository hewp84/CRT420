{
 "cells": [
  {
   "cell_type": "markdown",
   "id": "b713675e-a3b7-481d-a13d-6368e6a7b267",
   "metadata": {},
   "source": [
    "<a href=\"https://colab.research.google.com/github/hewp84/CRT420/blob/main/Pandas_4.ipynb\" target=\"_parent\"><img src=\"https://colab.research.google.com/assets/colab-badge.svg\" alt=\"Open In Colab\"/></a>"
   ]
  },
  {
   "cell_type": "markdown",
   "id": "bb3f6612-f741-43b8-99b6-a6c58bbb1e35",
   "metadata": {},
   "source": [
    "# PANDAS: Webscrapping tables and edit strings"
   ]
  },
  {
   "cell_type": "markdown",
   "id": "6c11e7ac-601a-4147-aee6-1f11fdc07594",
   "metadata": {},
   "source": [
    "## WebScrapping tables\n",
    "You can use the `pandas` library in Python to extract data from HTML tables. The pandas library provides a function called `read_html` that can automatically parse HTML tables and return them as DataFrame objects."
   ]
  },
  {
   "cell_type": "code",
   "execution_count": null,
   "id": "1266eb00-cbb5-4284-876c-22c404ffd5c1",
   "metadata": {
    "tags": []
   },
   "outputs": [],
   "source": [
    "import pandas as pd\n",
    "\n",
    "# URL of the webpage containing the HTML table(s)\n",
    "url = 'paste url here'\n",
    "\n",
    "# Read the HTML tables from the webpage\n",
    "tables = pd.read_html(url)\n",
    "\n",
    "# Depending on the webpage structure, there might be multiple tables\n",
    "# You can access each table using tables[index], where index is the index of the table you want to extract\n",
    "\n",
    "# For example, to extract the first table\n",
    "table1 = tables[0]\n",
    "table1\n"
   ]
  },
  {
   "cell_type": "code",
   "execution_count": null,
   "id": "54766bb8-304f-40c0-8b66-f45c0d848560",
   "metadata": {},
   "outputs": [],
   "source": [
    "#Example 1: Extract different tables\n"
   ]
  },
  {
   "cell_type": "code",
   "execution_count": null,
   "id": "1b94ae33-a60a-4ae9-a0bf-74f978dfdc7c",
   "metadata": {},
   "outputs": [],
   "source": [
    "#Example 2: Use a boolean mask to pull the records when Argentina won the World Cup\n"
   ]
  },
  {
   "cell_type": "code",
   "execution_count": null,
   "id": "728822a5-022c-4b86-8881-4d4d67f4e740",
   "metadata": {},
   "outputs": [],
   "source": [
    "#Example 3: Add attendance"
   ]
  },
  {
   "cell_type": "markdown",
   "id": "8e0fa4ef-f0e0-4b4b-9141-eba37128ea97",
   "metadata": {},
   "source": [
    "## String Methods\n",
    "### Syntax\n",
    "<table style=\"float:left; margin-left:3px;\">\n",
    "  <tr>\n",
    "    <th>Data structure</th>\n",
    "    <th>Method</th> \n",
    "  </tr>\n",
    "  \n",
    "  <tr>\n",
    "    <td>Dataframe</td>\n",
    "    <td>df['column_name'].str.method()</td>\n",
    "  </tr>\n",
    "  \n",
    "  <tr>\n",
    "    <td>Column</td>  \n",
    "    <td>column.str.method()</td>\n",
    "  </tr>\n",
    "</table>\n",
    "\n"
   ]
  },
  {
   "cell_type": "markdown",
   "id": "b7867942-b48d-46fb-b51c-63f7c446f613",
   "metadata": {},
   "source": [
    "### Methods\n",
    "<table style=\"float:left; margin-left:3px;\">\n",
    "<tr>\n",
    "<th>Method</th> \n",
    "<th>Parameters</th>\n",
    "<th>Description</th>\n",
    "</tr>\n",
    "\n",
    "<tr>\n",
    "<td>str.upper()</td>  \n",
    "<td>None</td>\n",
    "<td>Converts a string to uppercase.</td>\n",
    "</tr>\n",
    "\n",
    "<tr>  \n",
    "<td>str.lower()</td>\n",
    "<td>None</td>  \n",
    "<td>Converts a string to lowercase.</td>\n",
    "</tr>\n",
    "\n",
    "<tr>\n",
    "<td>str.strip()</td>\n",
    "<td>None</td>\n",
    "<td>Removes leading and trailing whitespace from a string.</td>  \n",
    "</tr>\n",
    "\n",
    "<tr>\n",
    "<td>str.lstrip()</td>\n",
    "<td>None</td>\n",
    "<td>Removes leading whitespace from a string.</td>\n",
    "</tr>\n",
    "\n",
    "<tr>\n",
    "<td>str.rstrip()</td> \n",
    "<td>None</td>\n",
    "<td>Removes trailing whitespace from a string.</td>\n",
    "</tr>\n",
    "\n",
    "<tr>\n",
    "<td>str.replace()</td>\n",
    "<td>to_replace, replacement, regex=False</td>  \n",
    "<td>Replaces all occurrences of a substring with another substring.</td>\n",
    "</tr>\n",
    "\n",
    "<tr>\n",
    "<td>str.split()</td>\n",
    "<td>delimiter, expand=False</td>\n",
    "<td>Splits a string into a list of substrings based on a delimiter.</td>\n",
    "</tr>\n",
    "\n",
    "<tr>  \n",
    "<td>str.join()</td>\n",
    "<td>seq, separator</td>\n",
    "<td>Joins a list of substrings into a single string using a delimiter.</td> \n",
    "</tr>\n",
    "    \n",
    "<tr>  \n",
    "<td>str.slice()</td>\n",
    "<td>start, stop, step</td>\n",
    "<td>Slices a string using starting index position, stopping index position and step.</td> \n",
    "</tr>\n",
    "\n",
    "<tr>\n",
    "<td>str.len()</td> \n",
    "<td>None</td>\n",
    "<td>Returns the length of a string.</td>\n",
    "</tr>\n",
    "\n",
    "<tr>\n",
    "<td>str.isalpha()</td>\n",
    "<td>None</td>\n",
    "<td>Returns True if a string contains only alphabetic characters.</td>\n",
    "</tr>\n",
    "\n",
    "<tr>\n",
    "<td>str.isdigit()</td>  \n",
    "<td>None</td>\n",
    "<td>Returns True if a string contains only numeric characters.</td>\n",
    "</tr>\n",
    "\n",
    "</table>"
   ]
  },
  {
   "cell_type": "code",
   "execution_count": null,
   "id": "f8f61e0a-adaf-47f1-8c03-9e640b0ae7d8",
   "metadata": {},
   "outputs": [],
   "source": []
  }
 ],
 "metadata": {
  "kernelspec": {
   "display_name": "Python 3 (ipykernel)",
   "language": "python",
   "name": "python3"
  },
  "language_info": {
   "codemirror_mode": {
    "name": "ipython",
    "version": 3
   },
   "file_extension": ".py",
   "mimetype": "text/x-python",
   "name": "python",
   "nbconvert_exporter": "python",
   "pygments_lexer": "ipython3",
   "version": "3.11.4"
  }
 },
 "nbformat": 4,
 "nbformat_minor": 5
}
