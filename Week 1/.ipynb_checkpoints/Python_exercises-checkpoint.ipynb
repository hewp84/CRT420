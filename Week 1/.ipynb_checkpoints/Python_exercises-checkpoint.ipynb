{
 "cells": [
  {
   "cell_type": "markdown",
   "metadata": {
    "id": "c0HxJZArxuts"
   },
   "source": [
    "# Solve the following exercises using Python.\n",
    "\n",
    "Concepts such as conditional, iterative loop structures and lists appear as tools to solve such exercises."
   ]
  },
  {
   "cell_type": "markdown",
   "metadata": {
    "id": "1-XDeD4Mx_EY"
   },
   "source": [
    "1. Write a program that takes a number as input and prints \"Fizz\" if the number is divisible by 3, \"Buzz\" if divisible by 5, and \"FizzBuzz\" if divisible by both."
   ]
  },
  {
   "cell_type": "code",
   "execution_count": null,
   "metadata": {
    "id": "gXMr5HymxtZ9"
   },
   "outputs": [],
   "source": []
  },
  {
   "cell_type": "markdown",
   "metadata": {
    "id": "qUZX4KYuyEZq"
   },
   "source": [
    "2. Write a program that takes in a number and prints whether it is positive, negative, or zero."
   ]
  },
  {
   "cell_type": "code",
   "execution_count": null,
   "metadata": {
    "id": "iDtYbLJUyGbf"
   },
   "outputs": [],
   "source": []
  },
  {
   "cell_type": "markdown",
   "metadata": {
    "id": "n-u4kCZeyG3Q"
   },
   "source": [
    "3. Write a program that takes in three numbers and prints the largest of all."
   ]
  },
  {
   "cell_type": "code",
   "execution_count": null,
   "metadata": {
    "id": "lnN1zyAtyPhp"
   },
   "outputs": [],
   "source": []
  },
  {
   "cell_type": "markdown",
   "metadata": {
    "id": "FHb5WEJ_yQS0"
   },
   "source": [
    "4. Write a program that takes in a number and prints all the numbers from 1 to that number."
   ]
  },
  {
   "cell_type": "code",
   "execution_count": null,
   "metadata": {
    "id": "O-_G18VaySG_"
   },
   "outputs": [],
   "source": []
  },
  {
   "cell_type": "markdown",
   "metadata": {
    "id": "kt8WlRkGySnD"
   },
   "source": [
    "5. Write a program that takes in a string and prints it in reverse order."
   ]
  },
  {
   "cell_type": "code",
   "execution_count": null,
   "metadata": {
    "id": "6YK3XXhyyUhm"
   },
   "outputs": [],
   "source": []
  },
  {
   "cell_type": "markdown",
   "metadata": {
    "id": "28yG7HX5yXjK"
   },
   "source": [
    "6. Write a program with a loop that iterates from 1 to 100 and prints \"Fizz\" if the number is divisible by 3, \"Buzz\" if divisible by 5, and the number itself if neither."
   ]
  },
  {
   "cell_type": "code",
   "execution_count": null,
   "metadata": {
    "id": "jNlAWwx5yYe3"
   },
   "outputs": [],
   "source": []
  },
  {
   "cell_type": "markdown",
   "metadata": {
    "id": "3T6XIzStyaGi"
   },
   "source": [
    "7. Write a program that takes in a number and prints the Fibonacci sequence up to that number."
   ]
  },
  {
   "cell_type": "code",
   "execution_count": null,
   "metadata": {
    "id": "F5yJ-t2KyatI"
   },
   "outputs": [],
   "source": []
  },
  {
   "cell_type": "markdown",
   "metadata": {
    "id": "-f5noMapyb9D"
   },
   "source": [
    "8. Write a program that takes in a string and counts how many vowels are in the string."
   ]
  },
  {
   "cell_type": "code",
   "execution_count": null,
   "metadata": {
    "id": "nRDwg9MtyccP"
   },
   "outputs": [],
   "source": []
  },
  {
   "cell_type": "markdown",
   "metadata": {
    "id": "HvuiqJczydv3"
   },
   "source": [
    "9. Write a guessing game program where the user has to guess a random number between 1 and 100 in 10 turns."
   ]
  },
  {
   "cell_type": "code",
   "execution_count": null,
   "metadata": {
    "id": "Hzb2kV5fye6v"
   },
   "outputs": [],
   "source": []
  },
  {
   "cell_type": "markdown",
   "metadata": {
    "id": "K7bUwHKRygRe"
   },
   "source": [
    "10. Write a program that takes in a list of numbers and prints the largest and smallest numbers in the list."
   ]
  },
  {
   "cell_type": "code",
   "execution_count": null,
   "metadata": {
    "id": "KGYeLwRrygvA"
   },
   "outputs": [],
   "source": []
  }
 ],
 "metadata": {
  "colab": {
   "provenance": []
  },
  "kernelspec": {
   "display_name": "Python 3 (ipykernel)",
   "language": "python",
   "name": "python3"
  },
  "language_info": {
   "codemirror_mode": {
    "name": "ipython",
    "version": 3
   },
   "file_extension": ".py",
   "mimetype": "text/x-python",
   "name": "python",
   "nbconvert_exporter": "python",
   "pygments_lexer": "ipython3",
   "version": "3.11.3"
  }
 },
 "nbformat": 4,
 "nbformat_minor": 4
}
